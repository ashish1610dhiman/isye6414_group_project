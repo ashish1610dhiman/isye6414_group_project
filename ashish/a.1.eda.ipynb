{
 "cells": [
  {
   "cell_type": "code",
   "execution_count": 3,
   "metadata": {},
   "outputs": [
    {
     "name": "stdout",
     "output_type": "stream",
     "text": [
      "a.1.eda.ipynb                   test_regression_data.ipynb\r\n",
      "my_playlist.py                  top_500_artists_deduplicate.csv\r\n"
     ]
    }
   ],
   "source": [
    "!ls"
   ]
  },
  {
   "cell_type": "code",
   "execution_count": 4,
   "metadata": {},
   "outputs": [
    {
     "name": "stdout",
     "output_type": "stream",
     "text": [
      "/Users/ashish1610dhiman/data_projects/fall22_hw/isye6414_hw/project\r\n"
     ]
    }
   ],
   "source": [
    "!pwd"
   ]
  },
  {
   "cell_type": "code",
   "execution_count": 61,
   "metadata": {},
   "outputs": [],
   "source": [
    "import pandas as pd\n",
    "import numpy as np\n",
    "import matplotlib.pyplot as plt\n",
    "import seaborn as sns\n",
    "import statsmodels.api as sm\n",
    "from statsmodels.stats.multicomp import pairwise_tukeyhsd"
   ]
  },
  {
   "cell_type": "markdown",
   "metadata": {},
   "source": [
    "### Read data"
   ]
  },
  {
   "cell_type": "code",
   "execution_count": 7,
   "metadata": {},
   "outputs": [
    {
     "name": "stdout",
     "output_type": "stream",
     "text": [
      "<class 'pandas.core.frame.DataFrame'>\n",
      "RangeIndex: 4576 entries, 0 to 4575\n",
      "Data columns (total 15 columns):\n",
      " #   Column            Non-Null Count  Dtype  \n",
      "---  ------            --------------  -----  \n",
      " 0   name              4576 non-null   object \n",
      " 1   album             4576 non-null   object \n",
      " 2   artist            4576 non-null   object \n",
      " 3   release_date      4576 non-null   object \n",
      " 4   length            4576 non-null   int64  \n",
      " 5   popularity        4576 non-null   int64  \n",
      " 6   danceability      4576 non-null   float64\n",
      " 7   acousticness      4576 non-null   float64\n",
      " 8   energy            4576 non-null   float64\n",
      " 9   instrumentalness  4576 non-null   float64\n",
      " 10  liveness          4576 non-null   float64\n",
      " 11  loudness          4576 non-null   float64\n",
      " 12  speechiness       4576 non-null   float64\n",
      " 13  tempo             4576 non-null   float64\n",
      " 14  time_signature    4576 non-null   int64  \n",
      "dtypes: float64(8), int64(3), object(4)\n",
      "memory usage: 536.4+ KB\n"
     ]
    }
   ],
   "source": [
    "df_org = pd.read_csv(\"top_500_artists_deduplicate.csv\")\n",
    "df_org.info()"
   ]
  },
  {
   "cell_type": "code",
   "execution_count": 8,
   "metadata": {},
   "outputs": [
    {
     "data": {
      "text/plain": [
       "name                4576\n",
       "album               4576\n",
       "artist              4576\n",
       "release_date        4576\n",
       "length              4576\n",
       "popularity          4576\n",
       "danceability        4576\n",
       "acousticness        4576\n",
       "energy              4576\n",
       "instrumentalness    4576\n",
       "liveness            4576\n",
       "loudness            4576\n",
       "speechiness         4576\n",
       "tempo               4576\n",
       "time_signature      4576\n",
       "dtype: int64"
      ]
     },
     "execution_count": 8,
     "metadata": {},
     "output_type": "execute_result"
    }
   ],
   "source": [
    "df_org.count()"
   ]
  },
  {
   "cell_type": "code",
   "execution_count": 9,
   "metadata": {},
   "outputs": [
    {
     "data": {
      "text/plain": [
       "name                4451\n",
       "album               2927\n",
       "artist               729\n",
       "release_date        1531\n",
       "length              4245\n",
       "popularity            66\n",
       "danceability         721\n",
       "acousticness        1953\n",
       "energy               807\n",
       "instrumentalness    1612\n",
       "liveness            1069\n",
       "loudness            3515\n",
       "speechiness         1034\n",
       "tempo               4214\n",
       "time_signature         4\n",
       "dtype: int64"
      ]
     },
     "execution_count": 9,
     "metadata": {},
     "output_type": "execute_result"
    }
   ],
   "source": [
    "df_org.nunique()"
   ]
  },
  {
   "cell_type": "code",
   "execution_count": 10,
   "metadata": {},
   "outputs": [
    {
     "data": {
      "text/html": [
       "<div>\n",
       "<style scoped>\n",
       "    .dataframe tbody tr th:only-of-type {\n",
       "        vertical-align: middle;\n",
       "    }\n",
       "\n",
       "    .dataframe tbody tr th {\n",
       "        vertical-align: top;\n",
       "    }\n",
       "\n",
       "    .dataframe thead th {\n",
       "        text-align: right;\n",
       "    }\n",
       "</style>\n",
       "<table border=\"1\" class=\"dataframe\">\n",
       "  <thead>\n",
       "    <tr style=\"text-align: right;\">\n",
       "      <th></th>\n",
       "      <th>length</th>\n",
       "      <th>popularity</th>\n",
       "      <th>danceability</th>\n",
       "      <th>acousticness</th>\n",
       "      <th>energy</th>\n",
       "      <th>instrumentalness</th>\n",
       "      <th>liveness</th>\n",
       "      <th>loudness</th>\n",
       "      <th>speechiness</th>\n",
       "      <th>tempo</th>\n",
       "      <th>time_signature</th>\n",
       "    </tr>\n",
       "  </thead>\n",
       "  <tbody>\n",
       "    <tr>\n",
       "      <th>count</th>\n",
       "      <td>4576.000000</td>\n",
       "      <td>4576.000000</td>\n",
       "      <td>4576.000000</td>\n",
       "      <td>4576.000000</td>\n",
       "      <td>4576.000000</td>\n",
       "      <td>4576.000000</td>\n",
       "      <td>4576.000000</td>\n",
       "      <td>4576.000000</td>\n",
       "      <td>4576.000000</td>\n",
       "      <td>4576.000000</td>\n",
       "      <td>4576.000000</td>\n",
       "    </tr>\n",
       "    <tr>\n",
       "      <th>mean</th>\n",
       "      <td>217789.556818</td>\n",
       "      <td>71.409309</td>\n",
       "      <td>0.640186</td>\n",
       "      <td>0.231522</td>\n",
       "      <td>0.658574</td>\n",
       "      <td>0.021347</td>\n",
       "      <td>0.187372</td>\n",
       "      <td>-6.491035</td>\n",
       "      <td>0.097575</td>\n",
       "      <td>121.737096</td>\n",
       "      <td>3.950393</td>\n",
       "    </tr>\n",
       "    <tr>\n",
       "      <th>std</th>\n",
       "      <td>56337.555708</td>\n",
       "      <td>8.199005</td>\n",
       "      <td>0.152407</td>\n",
       "      <td>0.253239</td>\n",
       "      <td>0.186724</td>\n",
       "      <td>0.110489</td>\n",
       "      <td>0.154929</td>\n",
       "      <td>3.059317</td>\n",
       "      <td>0.104104</td>\n",
       "      <td>28.746520</td>\n",
       "      <td>0.306483</td>\n",
       "    </tr>\n",
       "    <tr>\n",
       "      <th>min</th>\n",
       "      <td>69900.000000</td>\n",
       "      <td>14.000000</td>\n",
       "      <td>0.079300</td>\n",
       "      <td>0.000005</td>\n",
       "      <td>0.002290</td>\n",
       "      <td>0.000000</td>\n",
       "      <td>0.015700</td>\n",
       "      <td>-39.627000</td>\n",
       "      <td>0.023200</td>\n",
       "      <td>42.741000</td>\n",
       "      <td>1.000000</td>\n",
       "    </tr>\n",
       "    <tr>\n",
       "      <th>25%</th>\n",
       "      <td>181896.750000</td>\n",
       "      <td>66.000000</td>\n",
       "      <td>0.544000</td>\n",
       "      <td>0.030575</td>\n",
       "      <td>0.539750</td>\n",
       "      <td>0.000000</td>\n",
       "      <td>0.094875</td>\n",
       "      <td>-7.704250</td>\n",
       "      <td>0.037200</td>\n",
       "      <td>99.410500</td>\n",
       "      <td>4.000000</td>\n",
       "    </tr>\n",
       "    <tr>\n",
       "      <th>50%</th>\n",
       "      <td>210307.500000</td>\n",
       "      <td>72.000000</td>\n",
       "      <td>0.657000</td>\n",
       "      <td>0.127000</td>\n",
       "      <td>0.682000</td>\n",
       "      <td>0.000000</td>\n",
       "      <td>0.124000</td>\n",
       "      <td>-5.898500</td>\n",
       "      <td>0.055200</td>\n",
       "      <td>120.055500</td>\n",
       "      <td>4.000000</td>\n",
       "    </tr>\n",
       "    <tr>\n",
       "      <th>75%</th>\n",
       "      <td>242030.000000</td>\n",
       "      <td>77.000000</td>\n",
       "      <td>0.750250</td>\n",
       "      <td>0.367250</td>\n",
       "      <td>0.800000</td>\n",
       "      <td>0.000102</td>\n",
       "      <td>0.232000</td>\n",
       "      <td>-4.521000</td>\n",
       "      <td>0.110000</td>\n",
       "      <td>140.004500</td>\n",
       "      <td>4.000000</td>\n",
       "    </tr>\n",
       "    <tr>\n",
       "      <th>max</th>\n",
       "      <td>811077.000000</td>\n",
       "      <td>100.000000</td>\n",
       "      <td>0.970000</td>\n",
       "      <td>0.995000</td>\n",
       "      <td>0.996000</td>\n",
       "      <td>0.982000</td>\n",
       "      <td>0.977000</td>\n",
       "      <td>0.175000</td>\n",
       "      <td>0.961000</td>\n",
       "      <td>220.099000</td>\n",
       "      <td>5.000000</td>\n",
       "    </tr>\n",
       "  </tbody>\n",
       "</table>\n",
       "</div>"
      ],
      "text/plain": [
       "              length   popularity  danceability  acousticness       energy  \\\n",
       "count    4576.000000  4576.000000   4576.000000   4576.000000  4576.000000   \n",
       "mean   217789.556818    71.409309      0.640186      0.231522     0.658574   \n",
       "std     56337.555708     8.199005      0.152407      0.253239     0.186724   \n",
       "min     69900.000000    14.000000      0.079300      0.000005     0.002290   \n",
       "25%    181896.750000    66.000000      0.544000      0.030575     0.539750   \n",
       "50%    210307.500000    72.000000      0.657000      0.127000     0.682000   \n",
       "75%    242030.000000    77.000000      0.750250      0.367250     0.800000   \n",
       "max    811077.000000   100.000000      0.970000      0.995000     0.996000   \n",
       "\n",
       "       instrumentalness     liveness     loudness  speechiness        tempo  \\\n",
       "count       4576.000000  4576.000000  4576.000000  4576.000000  4576.000000   \n",
       "mean           0.021347     0.187372    -6.491035     0.097575   121.737096   \n",
       "std            0.110489     0.154929     3.059317     0.104104    28.746520   \n",
       "min            0.000000     0.015700   -39.627000     0.023200    42.741000   \n",
       "25%            0.000000     0.094875    -7.704250     0.037200    99.410500   \n",
       "50%            0.000000     0.124000    -5.898500     0.055200   120.055500   \n",
       "75%            0.000102     0.232000    -4.521000     0.110000   140.004500   \n",
       "max            0.982000     0.977000     0.175000     0.961000   220.099000   \n",
       "\n",
       "       time_signature  \n",
       "count     4576.000000  \n",
       "mean         3.950393  \n",
       "std          0.306483  \n",
       "min          1.000000  \n",
       "25%          4.000000  \n",
       "50%          4.000000  \n",
       "75%          4.000000  \n",
       "max          5.000000  "
      ]
     },
     "execution_count": 10,
     "metadata": {},
     "output_type": "execute_result"
    }
   ],
   "source": [
    "df_org.describe()"
   ]
  },
  {
   "cell_type": "markdown",
   "metadata": {},
   "source": [
    "### Who are the duplicated names"
   ]
  },
  {
   "cell_type": "code",
   "execution_count": 13,
   "metadata": {},
   "outputs": [
    {
     "data": {
      "text/plain": [
       "125"
      ]
     },
     "execution_count": 13,
     "metadata": {},
     "output_type": "execute_result"
    }
   ],
   "source": [
    "df_org[\"name\"].duplicated().sum()"
   ]
  },
  {
   "cell_type": "code",
   "execution_count": 14,
   "metadata": {},
   "outputs": [
    {
     "data": {
      "text/plain": [
       "4576"
      ]
     },
     "execution_count": 14,
     "metadata": {},
     "output_type": "execute_result"
    }
   ],
   "source": [
    "4451+125"
   ]
  },
  {
   "cell_type": "code",
   "execution_count": 16,
   "metadata": {},
   "outputs": [
    {
     "data": {
      "text/html": [
       "<div>\n",
       "<style scoped>\n",
       "    .dataframe tbody tr th:only-of-type {\n",
       "        vertical-align: middle;\n",
       "    }\n",
       "\n",
       "    .dataframe tbody tr th {\n",
       "        vertical-align: top;\n",
       "    }\n",
       "\n",
       "    .dataframe thead th {\n",
       "        text-align: right;\n",
       "    }\n",
       "</style>\n",
       "<table border=\"1\" class=\"dataframe\">\n",
       "  <thead>\n",
       "    <tr style=\"text-align: right;\">\n",
       "      <th></th>\n",
       "      <th>name</th>\n",
       "      <th>album</th>\n",
       "      <th>artist</th>\n",
       "      <th>release_date</th>\n",
       "      <th>length</th>\n",
       "      <th>popularity</th>\n",
       "      <th>danceability</th>\n",
       "      <th>acousticness</th>\n",
       "      <th>energy</th>\n",
       "      <th>instrumentalness</th>\n",
       "      <th>liveness</th>\n",
       "      <th>loudness</th>\n",
       "      <th>speechiness</th>\n",
       "      <th>tempo</th>\n",
       "      <th>time_signature</th>\n",
       "    </tr>\n",
       "  </thead>\n",
       "  <tbody>\n",
       "    <tr>\n",
       "      <th>323</th>\n",
       "      <td>Perfect</td>\n",
       "      <td>Made In The A.M. (Deluxe Edition)</td>\n",
       "      <td>One Direction</td>\n",
       "      <td>2015-11-13</td>\n",
       "      <td>230333</td>\n",
       "      <td>79</td>\n",
       "      <td>0.647</td>\n",
       "      <td>0.0598</td>\n",
       "      <td>0.823</td>\n",
       "      <td>0.000000</td>\n",
       "      <td>0.1190</td>\n",
       "      <td>-5.231</td>\n",
       "      <td>0.0762</td>\n",
       "      <td>99.933</td>\n",
       "      <td>4</td>\n",
       "    </tr>\n",
       "    <tr>\n",
       "      <th>385</th>\n",
       "      <td>Without Me</td>\n",
       "      <td>Manic</td>\n",
       "      <td>Halsey</td>\n",
       "      <td>2020-01-17</td>\n",
       "      <td>201660</td>\n",
       "      <td>80</td>\n",
       "      <td>0.752</td>\n",
       "      <td>0.2970</td>\n",
       "      <td>0.488</td>\n",
       "      <td>0.000009</td>\n",
       "      <td>0.0936</td>\n",
       "      <td>-7.050</td>\n",
       "      <td>0.0705</td>\n",
       "      <td>136.041</td>\n",
       "      <td>4</td>\n",
       "    </tr>\n",
       "    <tr>\n",
       "      <th>451</th>\n",
       "      <td>Happier</td>\n",
       "      <td>Happier</td>\n",
       "      <td>Marshmello</td>\n",
       "      <td>2018-08-17</td>\n",
       "      <td>214289</td>\n",
       "      <td>84</td>\n",
       "      <td>0.687</td>\n",
       "      <td>0.1910</td>\n",
       "      <td>0.792</td>\n",
       "      <td>0.000000</td>\n",
       "      <td>0.1670</td>\n",
       "      <td>-2.749</td>\n",
       "      <td>0.0452</td>\n",
       "      <td>100.015</td>\n",
       "      <td>4</td>\n",
       "    </tr>\n",
       "    <tr>\n",
       "      <th>466</th>\n",
       "      <td>Numb</td>\n",
       "      <td>Meteora</td>\n",
       "      <td>Linkin Park</td>\n",
       "      <td>2003-03-24</td>\n",
       "      <td>185586</td>\n",
       "      <td>84</td>\n",
       "      <td>0.496</td>\n",
       "      <td>0.0046</td>\n",
       "      <td>0.863</td>\n",
       "      <td>0.000000</td>\n",
       "      <td>0.6390</td>\n",
       "      <td>-4.153</td>\n",
       "      <td>0.0381</td>\n",
       "      <td>110.018</td>\n",
       "      <td>4</td>\n",
       "    </tr>\n",
       "    <tr>\n",
       "      <th>614</th>\n",
       "      <td>West Coast</td>\n",
       "      <td>West Coast</td>\n",
       "      <td>OneRepublic</td>\n",
       "      <td>2022-02-25</td>\n",
       "      <td>192947</td>\n",
       "      <td>77</td>\n",
       "      <td>0.685</td>\n",
       "      <td>0.3170</td>\n",
       "      <td>0.699</td>\n",
       "      <td>0.000000</td>\n",
       "      <td>0.0895</td>\n",
       "      <td>-7.803</td>\n",
       "      <td>0.0349</td>\n",
       "      <td>134.057</td>\n",
       "      <td>4</td>\n",
       "    </tr>\n",
       "    <tr>\n",
       "      <th>...</th>\n",
       "      <td>...</td>\n",
       "      <td>...</td>\n",
       "      <td>...</td>\n",
       "      <td>...</td>\n",
       "      <td>...</td>\n",
       "      <td>...</td>\n",
       "      <td>...</td>\n",
       "      <td>...</td>\n",
       "      <td>...</td>\n",
       "      <td>...</td>\n",
       "      <td>...</td>\n",
       "      <td>...</td>\n",
       "      <td>...</td>\n",
       "      <td>...</td>\n",
       "      <td>...</td>\n",
       "    </tr>\n",
       "    <tr>\n",
       "      <th>4497</th>\n",
       "      <td>Forever</td>\n",
       "      <td>Beautiful Mind</td>\n",
       "      <td>Rod Wave</td>\n",
       "      <td>2022-08-12</td>\n",
       "      <td>214185</td>\n",
       "      <td>69</td>\n",
       "      <td>0.626</td>\n",
       "      <td>0.5660</td>\n",
       "      <td>0.524</td>\n",
       "      <td>0.000011</td>\n",
       "      <td>0.1030</td>\n",
       "      <td>-8.987</td>\n",
       "      <td>0.0411</td>\n",
       "      <td>129.996</td>\n",
       "      <td>4</td>\n",
       "    </tr>\n",
       "    <tr>\n",
       "      <th>4527</th>\n",
       "      <td>HOT</td>\n",
       "      <td>SEVENTEEN 4th Album 'Face the Sun'</td>\n",
       "      <td>SEVENTEEN</td>\n",
       "      <td>2022-05-27</td>\n",
       "      <td>197586</td>\n",
       "      <td>81</td>\n",
       "      <td>0.765</td>\n",
       "      <td>0.0539</td>\n",
       "      <td>0.777</td>\n",
       "      <td>0.000003</td>\n",
       "      <td>0.3380</td>\n",
       "      <td>-4.376</td>\n",
       "      <td>0.0399</td>\n",
       "      <td>111.944</td>\n",
       "      <td>4</td>\n",
       "    </tr>\n",
       "    <tr>\n",
       "      <th>4537</th>\n",
       "      <td>September</td>\n",
       "      <td>The Best Of Earth, Wind &amp; Fire Vol. 1</td>\n",
       "      <td>Earth, Wind &amp; Fire</td>\n",
       "      <td>1978-11-23</td>\n",
       "      <td>215093</td>\n",
       "      <td>84</td>\n",
       "      <td>0.697</td>\n",
       "      <td>0.1680</td>\n",
       "      <td>0.832</td>\n",
       "      <td>0.001310</td>\n",
       "      <td>0.2690</td>\n",
       "      <td>-7.264</td>\n",
       "      <td>0.0298</td>\n",
       "      <td>125.926</td>\n",
       "      <td>4</td>\n",
       "    </tr>\n",
       "    <tr>\n",
       "      <th>4544</th>\n",
       "      <td>Fantasy</td>\n",
       "      <td>All 'N All</td>\n",
       "      <td>Earth, Wind &amp; Fire</td>\n",
       "      <td>1977-11-21</td>\n",
       "      <td>277413</td>\n",
       "      <td>59</td>\n",
       "      <td>0.608</td>\n",
       "      <td>0.3230</td>\n",
       "      <td>0.745</td>\n",
       "      <td>0.004280</td>\n",
       "      <td>0.1350</td>\n",
       "      <td>-8.772</td>\n",
       "      <td>0.0857</td>\n",
       "      <td>88.941</td>\n",
       "      <td>4</td>\n",
       "    </tr>\n",
       "    <tr>\n",
       "      <th>4572</th>\n",
       "      <td>Invincible</td>\n",
       "      <td>Spider-Man: Into the Spider-Verse (Soundtrack ...</td>\n",
       "      <td>Various Artists</td>\n",
       "      <td>2018-12-14</td>\n",
       "      <td>196386</td>\n",
       "      <td>61</td>\n",
       "      <td>0.724</td>\n",
       "      <td>0.1410</td>\n",
       "      <td>0.600</td>\n",
       "      <td>0.000218</td>\n",
       "      <td>0.1040</td>\n",
       "      <td>-4.391</td>\n",
       "      <td>0.2900</td>\n",
       "      <td>86.984</td>\n",
       "      <td>4</td>\n",
       "    </tr>\n",
       "  </tbody>\n",
       "</table>\n",
       "<p>125 rows × 15 columns</p>\n",
       "</div>"
      ],
      "text/plain": [
       "            name                                              album  \\\n",
       "323      Perfect                  Made In The A.M. (Deluxe Edition)   \n",
       "385   Without Me                                              Manic   \n",
       "451      Happier                                            Happier   \n",
       "466         Numb                                            Meteora   \n",
       "614   West Coast                                         West Coast   \n",
       "...          ...                                                ...   \n",
       "4497     Forever                                     Beautiful Mind   \n",
       "4527         HOT                 SEVENTEEN 4th Album 'Face the Sun'   \n",
       "4537   September              The Best Of Earth, Wind & Fire Vol. 1   \n",
       "4544     Fantasy                                         All 'N All   \n",
       "4572  Invincible  Spider-Man: Into the Spider-Verse (Soundtrack ...   \n",
       "\n",
       "                  artist release_date  length  popularity  danceability  \\\n",
       "323        One Direction   2015-11-13  230333          79         0.647   \n",
       "385               Halsey   2020-01-17  201660          80         0.752   \n",
       "451           Marshmello   2018-08-17  214289          84         0.687   \n",
       "466          Linkin Park   2003-03-24  185586          84         0.496   \n",
       "614          OneRepublic   2022-02-25  192947          77         0.685   \n",
       "...                  ...          ...     ...         ...           ...   \n",
       "4497            Rod Wave   2022-08-12  214185          69         0.626   \n",
       "4527           SEVENTEEN   2022-05-27  197586          81         0.765   \n",
       "4537  Earth, Wind & Fire   1978-11-23  215093          84         0.697   \n",
       "4544  Earth, Wind & Fire   1977-11-21  277413          59         0.608   \n",
       "4572     Various Artists   2018-12-14  196386          61         0.724   \n",
       "\n",
       "      acousticness  energy  instrumentalness  liveness  loudness  speechiness  \\\n",
       "323         0.0598   0.823          0.000000    0.1190    -5.231       0.0762   \n",
       "385         0.2970   0.488          0.000009    0.0936    -7.050       0.0705   \n",
       "451         0.1910   0.792          0.000000    0.1670    -2.749       0.0452   \n",
       "466         0.0046   0.863          0.000000    0.6390    -4.153       0.0381   \n",
       "614         0.3170   0.699          0.000000    0.0895    -7.803       0.0349   \n",
       "...            ...     ...               ...       ...       ...          ...   \n",
       "4497        0.5660   0.524          0.000011    0.1030    -8.987       0.0411   \n",
       "4527        0.0539   0.777          0.000003    0.3380    -4.376       0.0399   \n",
       "4537        0.1680   0.832          0.001310    0.2690    -7.264       0.0298   \n",
       "4544        0.3230   0.745          0.004280    0.1350    -8.772       0.0857   \n",
       "4572        0.1410   0.600          0.000218    0.1040    -4.391       0.2900   \n",
       "\n",
       "        tempo  time_signature  \n",
       "323    99.933               4  \n",
       "385   136.041               4  \n",
       "451   100.015               4  \n",
       "466   110.018               4  \n",
       "614   134.057               4  \n",
       "...       ...             ...  \n",
       "4497  129.996               4  \n",
       "4527  111.944               4  \n",
       "4537  125.926               4  \n",
       "4544   88.941               4  \n",
       "4572   86.984               4  \n",
       "\n",
       "[125 rows x 15 columns]"
      ]
     },
     "execution_count": 16,
     "metadata": {},
     "output_type": "execute_result"
    }
   ],
   "source": [
    "df_org[df_org[\"name\"].duplicated()]"
   ]
  },
  {
   "cell_type": "markdown",
   "metadata": {},
   "source": [
    "**==> Two songs by diff artists can have same name**\\\n",
    "ID of data = name,artist"
   ]
  },
  {
   "cell_type": "markdown",
   "metadata": {},
   "source": [
    "### Create ID"
   ]
  },
  {
   "cell_type": "code",
   "execution_count": 18,
   "metadata": {},
   "outputs": [
    {
     "data": {
      "text/plain": [
       "8"
      ]
     },
     "execution_count": 18,
     "metadata": {},
     "output_type": "execute_result"
    }
   ],
   "source": [
    "df_org[[\"name\",\"artist\"]].duplicated().sum()"
   ]
  },
  {
   "cell_type": "code",
   "execution_count": 23,
   "metadata": {},
   "outputs": [
    {
     "data": {
      "text/html": [
       "<div>\n",
       "<style scoped>\n",
       "    .dataframe tbody tr th:only-of-type {\n",
       "        vertical-align: middle;\n",
       "    }\n",
       "\n",
       "    .dataframe tbody tr th {\n",
       "        vertical-align: top;\n",
       "    }\n",
       "\n",
       "    .dataframe thead th {\n",
       "        text-align: right;\n",
       "    }\n",
       "</style>\n",
       "<table border=\"1\" class=\"dataframe\">\n",
       "  <thead>\n",
       "    <tr style=\"text-align: right;\">\n",
       "      <th></th>\n",
       "      <th>name</th>\n",
       "      <th>album</th>\n",
       "      <th>artist</th>\n",
       "      <th>release_date</th>\n",
       "      <th>length</th>\n",
       "      <th>popularity</th>\n",
       "      <th>danceability</th>\n",
       "      <th>acousticness</th>\n",
       "      <th>energy</th>\n",
       "      <th>instrumentalness</th>\n",
       "      <th>liveness</th>\n",
       "      <th>loudness</th>\n",
       "      <th>speechiness</th>\n",
       "      <th>tempo</th>\n",
       "      <th>time_signature</th>\n",
       "    </tr>\n",
       "  </thead>\n",
       "  <tbody>\n",
       "    <tr>\n",
       "      <th>3583</th>\n",
       "      <td>679 (feat. Remy Boyz)</td>\n",
       "      <td>679 (feat. Remy Boyz)</td>\n",
       "      <td>Fetty Wap</td>\n",
       "      <td>2015-06-29</td>\n",
       "      <td>196693</td>\n",
       "      <td>75</td>\n",
       "      <td>0.618</td>\n",
       "      <td>0.00256</td>\n",
       "      <td>0.717</td>\n",
       "      <td>0.000000</td>\n",
       "      <td>0.6250</td>\n",
       "      <td>-5.738</td>\n",
       "      <td>0.3180</td>\n",
       "      <td>190.050</td>\n",
       "      <td>4</td>\n",
       "    </tr>\n",
       "    <tr>\n",
       "      <th>3592</th>\n",
       "      <td>679 (feat. Remy Boyz)</td>\n",
       "      <td>679 (feat. Remy Boyz)</td>\n",
       "      <td>Fetty Wap</td>\n",
       "      <td>2015-06-29</td>\n",
       "      <td>196184</td>\n",
       "      <td>54</td>\n",
       "      <td>0.577</td>\n",
       "      <td>0.00411</td>\n",
       "      <td>0.833</td>\n",
       "      <td>0.000000</td>\n",
       "      <td>0.0709</td>\n",
       "      <td>-2.888</td>\n",
       "      <td>0.3430</td>\n",
       "      <td>189.723</td>\n",
       "      <td>4</td>\n",
       "    </tr>\n",
       "    <tr>\n",
       "      <th>2612</th>\n",
       "      <td>Algo Me Gusta De Ti</td>\n",
       "      <td>Líderes</td>\n",
       "      <td>Wisin &amp; Yandel</td>\n",
       "      <td>2012-01-01</td>\n",
       "      <td>274946</td>\n",
       "      <td>76</td>\n",
       "      <td>0.627</td>\n",
       "      <td>0.00291</td>\n",
       "      <td>0.768</td>\n",
       "      <td>0.000000</td>\n",
       "      <td>0.0598</td>\n",
       "      <td>-5.296</td>\n",
       "      <td>0.0325</td>\n",
       "      <td>127.953</td>\n",
       "      <td>4</td>\n",
       "    </tr>\n",
       "    <tr>\n",
       "      <th>2613</th>\n",
       "      <td>Algo Me Gusta De Ti</td>\n",
       "      <td>Líderes</td>\n",
       "      <td>Wisin &amp; Yandel</td>\n",
       "      <td>2012-01-01</td>\n",
       "      <td>275213</td>\n",
       "      <td>76</td>\n",
       "      <td>0.716</td>\n",
       "      <td>0.02430</td>\n",
       "      <td>0.785</td>\n",
       "      <td>0.000000</td>\n",
       "      <td>0.0638</td>\n",
       "      <td>-3.926</td>\n",
       "      <td>0.0534</td>\n",
       "      <td>127.957</td>\n",
       "      <td>4</td>\n",
       "    </tr>\n",
       "    <tr>\n",
       "      <th>1593</th>\n",
       "      <td>DÁKITI</td>\n",
       "      <td>DÁKITI</td>\n",
       "      <td>Bad Bunny</td>\n",
       "      <td>2020-10-30</td>\n",
       "      <td>205090</td>\n",
       "      <td>83</td>\n",
       "      <td>0.731</td>\n",
       "      <td>0.40100</td>\n",
       "      <td>0.573</td>\n",
       "      <td>0.000052</td>\n",
       "      <td>0.1130</td>\n",
       "      <td>-10.059</td>\n",
       "      <td>0.0544</td>\n",
       "      <td>109.928</td>\n",
       "      <td>4</td>\n",
       "    </tr>\n",
       "    <tr>\n",
       "      <th>2332</th>\n",
       "      <td>DÁKITI</td>\n",
       "      <td>EL ÚLTIMO TOUR DEL MUNDO</td>\n",
       "      <td>Bad Bunny</td>\n",
       "      <td>2020-11-27</td>\n",
       "      <td>205090</td>\n",
       "      <td>81</td>\n",
       "      <td>0.731</td>\n",
       "      <td>0.40100</td>\n",
       "      <td>0.573</td>\n",
       "      <td>0.000052</td>\n",
       "      <td>0.1130</td>\n",
       "      <td>-10.059</td>\n",
       "      <td>0.0544</td>\n",
       "      <td>109.928</td>\n",
       "      <td>4</td>\n",
       "    </tr>\n",
       "    <tr>\n",
       "      <th>1251</th>\n",
       "      <td>How Will I Know</td>\n",
       "      <td>How Will I Know</td>\n",
       "      <td>Whitney Houston</td>\n",
       "      <td>2021-09-24</td>\n",
       "      <td>213435</td>\n",
       "      <td>75</td>\n",
       "      <td>0.761</td>\n",
       "      <td>0.17800</td>\n",
       "      <td>0.739</td>\n",
       "      <td>0.000003</td>\n",
       "      <td>0.2300</td>\n",
       "      <td>-3.591</td>\n",
       "      <td>0.0369</td>\n",
       "      <td>118.997</td>\n",
       "      <td>4</td>\n",
       "    </tr>\n",
       "    <tr>\n",
       "      <th>2360</th>\n",
       "      <td>How Will I Know</td>\n",
       "      <td>Whitney Houston</td>\n",
       "      <td>Whitney Houston</td>\n",
       "      <td>1985-02-14</td>\n",
       "      <td>275533</td>\n",
       "      <td>71</td>\n",
       "      <td>0.832</td>\n",
       "      <td>0.20100</td>\n",
       "      <td>0.544</td>\n",
       "      <td>0.000139</td>\n",
       "      <td>0.6320</td>\n",
       "      <td>-12.697</td>\n",
       "      <td>0.0442</td>\n",
       "      <td>119.490</td>\n",
       "      <td>4</td>\n",
       "    </tr>\n",
       "    <tr>\n",
       "      <th>2657</th>\n",
       "      <td>Isn't She Lovely</td>\n",
       "      <td>The Definitive Collection</td>\n",
       "      <td>Stevie Wonder</td>\n",
       "      <td>2002-10-29</td>\n",
       "      <td>199386</td>\n",
       "      <td>68</td>\n",
       "      <td>0.747</td>\n",
       "      <td>0.20200</td>\n",
       "      <td>0.692</td>\n",
       "      <td>0.000034</td>\n",
       "      <td>0.0698</td>\n",
       "      <td>-8.956</td>\n",
       "      <td>0.0474</td>\n",
       "      <td>118.698</td>\n",
       "      <td>4</td>\n",
       "    </tr>\n",
       "    <tr>\n",
       "      <th>2658</th>\n",
       "      <td>Isn't She Lovely</td>\n",
       "      <td>Songs In The Key Of Life</td>\n",
       "      <td>Stevie Wonder</td>\n",
       "      <td>1976-09-28</td>\n",
       "      <td>394266</td>\n",
       "      <td>67</td>\n",
       "      <td>0.481</td>\n",
       "      <td>0.18200</td>\n",
       "      <td>0.826</td>\n",
       "      <td>0.003520</td>\n",
       "      <td>0.3240</td>\n",
       "      <td>-6.974</td>\n",
       "      <td>0.0851</td>\n",
       "      <td>118.679</td>\n",
       "      <td>4</td>\n",
       "    </tr>\n",
       "    <tr>\n",
       "      <th>730</th>\n",
       "      <td>Tacones Rojos</td>\n",
       "      <td>Dharma</td>\n",
       "      <td>Sebastian Yatra</td>\n",
       "      <td>2022-01-28</td>\n",
       "      <td>189333</td>\n",
       "      <td>79</td>\n",
       "      <td>0.746</td>\n",
       "      <td>0.06200</td>\n",
       "      <td>0.844</td>\n",
       "      <td>0.000000</td>\n",
       "      <td>0.1490</td>\n",
       "      <td>-3.499</td>\n",
       "      <td>0.0359</td>\n",
       "      <td>123.014</td>\n",
       "      <td>4</td>\n",
       "    </tr>\n",
       "    <tr>\n",
       "      <th>1837</th>\n",
       "      <td>Tacones Rojos</td>\n",
       "      <td>Dharma +</td>\n",
       "      <td>Sebastian Yatra</td>\n",
       "      <td>2022-07-29</td>\n",
       "      <td>189373</td>\n",
       "      <td>56</td>\n",
       "      <td>0.739</td>\n",
       "      <td>0.14100</td>\n",
       "      <td>0.835</td>\n",
       "      <td>0.000000</td>\n",
       "      <td>0.1030</td>\n",
       "      <td>-3.562</td>\n",
       "      <td>0.0335</td>\n",
       "      <td>122.978</td>\n",
       "      <td>4</td>\n",
       "    </tr>\n",
       "    <tr>\n",
       "      <th>1324</th>\n",
       "      <td>Wish You Were Here</td>\n",
       "      <td>Wish You Were Here</td>\n",
       "      <td>Pink Floyd</td>\n",
       "      <td>1975-09-12</td>\n",
       "      <td>334743</td>\n",
       "      <td>78</td>\n",
       "      <td>0.481</td>\n",
       "      <td>0.73500</td>\n",
       "      <td>0.262</td>\n",
       "      <td>0.011400</td>\n",
       "      <td>0.8320</td>\n",
       "      <td>-15.730</td>\n",
       "      <td>0.0414</td>\n",
       "      <td>122.861</td>\n",
       "      <td>4</td>\n",
       "    </tr>\n",
       "    <tr>\n",
       "      <th>1333</th>\n",
       "      <td>Wish You Were Here</td>\n",
       "      <td>A Foot in the Door: The Best of Pink Floyd</td>\n",
       "      <td>Pink Floyd</td>\n",
       "      <td>2011</td>\n",
       "      <td>305507</td>\n",
       "      <td>59</td>\n",
       "      <td>0.497</td>\n",
       "      <td>0.73100</td>\n",
       "      <td>0.278</td>\n",
       "      <td>0.000508</td>\n",
       "      <td>0.2840</td>\n",
       "      <td>-15.557</td>\n",
       "      <td>0.0513</td>\n",
       "      <td>120.931</td>\n",
       "      <td>4</td>\n",
       "    </tr>\n",
       "    <tr>\n",
       "      <th>1224</th>\n",
       "      <td>idfc</td>\n",
       "      <td>dead</td>\n",
       "      <td>blackbear</td>\n",
       "      <td>2015-06-02</td>\n",
       "      <td>207026</td>\n",
       "      <td>82</td>\n",
       "      <td>0.718</td>\n",
       "      <td>0.07640</td>\n",
       "      <td>0.422</td>\n",
       "      <td>0.000000</td>\n",
       "      <td>0.1700</td>\n",
       "      <td>-9.115</td>\n",
       "      <td>0.0621</td>\n",
       "      <td>144.678</td>\n",
       "      <td>4</td>\n",
       "    </tr>\n",
       "    <tr>\n",
       "      <th>1226</th>\n",
       "      <td>idfc</td>\n",
       "      <td>deadroses</td>\n",
       "      <td>blackbear</td>\n",
       "      <td>2015-02-14</td>\n",
       "      <td>245172</td>\n",
       "      <td>77</td>\n",
       "      <td>0.630</td>\n",
       "      <td>0.61100</td>\n",
       "      <td>0.500</td>\n",
       "      <td>0.000040</td>\n",
       "      <td>0.1140</td>\n",
       "      <td>-8.755</td>\n",
       "      <td>0.0611</td>\n",
       "      <td>144.871</td>\n",
       "      <td>4</td>\n",
       "    </tr>\n",
       "  </tbody>\n",
       "</table>\n",
       "</div>"
      ],
      "text/plain": [
       "                       name                                       album  \\\n",
       "3583  679 (feat. Remy Boyz)                       679 (feat. Remy Boyz)   \n",
       "3592  679 (feat. Remy Boyz)                       679 (feat. Remy Boyz)   \n",
       "2612    Algo Me Gusta De Ti                                     Líderes   \n",
       "2613    Algo Me Gusta De Ti                                     Líderes   \n",
       "1593                 DÁKITI                                      DÁKITI   \n",
       "2332                 DÁKITI                    EL ÚLTIMO TOUR DEL MUNDO   \n",
       "1251        How Will I Know                             How Will I Know   \n",
       "2360        How Will I Know                             Whitney Houston   \n",
       "2657       Isn't She Lovely                   The Definitive Collection   \n",
       "2658       Isn't She Lovely                    Songs In The Key Of Life   \n",
       "730           Tacones Rojos                                      Dharma   \n",
       "1837          Tacones Rojos                                    Dharma +   \n",
       "1324     Wish You Were Here                          Wish You Were Here   \n",
       "1333     Wish You Were Here  A Foot in the Door: The Best of Pink Floyd   \n",
       "1224                   idfc                                        dead   \n",
       "1226                   idfc                                   deadroses   \n",
       "\n",
       "               artist release_date  length  popularity  danceability  \\\n",
       "3583        Fetty Wap   2015-06-29  196693          75         0.618   \n",
       "3592        Fetty Wap   2015-06-29  196184          54         0.577   \n",
       "2612   Wisin & Yandel   2012-01-01  274946          76         0.627   \n",
       "2613   Wisin & Yandel   2012-01-01  275213          76         0.716   \n",
       "1593        Bad Bunny   2020-10-30  205090          83         0.731   \n",
       "2332        Bad Bunny   2020-11-27  205090          81         0.731   \n",
       "1251  Whitney Houston   2021-09-24  213435          75         0.761   \n",
       "2360  Whitney Houston   1985-02-14  275533          71         0.832   \n",
       "2657    Stevie Wonder   2002-10-29  199386          68         0.747   \n",
       "2658    Stevie Wonder   1976-09-28  394266          67         0.481   \n",
       "730   Sebastian Yatra   2022-01-28  189333          79         0.746   \n",
       "1837  Sebastian Yatra   2022-07-29  189373          56         0.739   \n",
       "1324       Pink Floyd   1975-09-12  334743          78         0.481   \n",
       "1333       Pink Floyd         2011  305507          59         0.497   \n",
       "1224        blackbear   2015-06-02  207026          82         0.718   \n",
       "1226        blackbear   2015-02-14  245172          77         0.630   \n",
       "\n",
       "      acousticness  energy  instrumentalness  liveness  loudness  speechiness  \\\n",
       "3583       0.00256   0.717          0.000000    0.6250    -5.738       0.3180   \n",
       "3592       0.00411   0.833          0.000000    0.0709    -2.888       0.3430   \n",
       "2612       0.00291   0.768          0.000000    0.0598    -5.296       0.0325   \n",
       "2613       0.02430   0.785          0.000000    0.0638    -3.926       0.0534   \n",
       "1593       0.40100   0.573          0.000052    0.1130   -10.059       0.0544   \n",
       "2332       0.40100   0.573          0.000052    0.1130   -10.059       0.0544   \n",
       "1251       0.17800   0.739          0.000003    0.2300    -3.591       0.0369   \n",
       "2360       0.20100   0.544          0.000139    0.6320   -12.697       0.0442   \n",
       "2657       0.20200   0.692          0.000034    0.0698    -8.956       0.0474   \n",
       "2658       0.18200   0.826          0.003520    0.3240    -6.974       0.0851   \n",
       "730        0.06200   0.844          0.000000    0.1490    -3.499       0.0359   \n",
       "1837       0.14100   0.835          0.000000    0.1030    -3.562       0.0335   \n",
       "1324       0.73500   0.262          0.011400    0.8320   -15.730       0.0414   \n",
       "1333       0.73100   0.278          0.000508    0.2840   -15.557       0.0513   \n",
       "1224       0.07640   0.422          0.000000    0.1700    -9.115       0.0621   \n",
       "1226       0.61100   0.500          0.000040    0.1140    -8.755       0.0611   \n",
       "\n",
       "        tempo  time_signature  \n",
       "3583  190.050               4  \n",
       "3592  189.723               4  \n",
       "2612  127.953               4  \n",
       "2613  127.957               4  \n",
       "1593  109.928               4  \n",
       "2332  109.928               4  \n",
       "1251  118.997               4  \n",
       "2360  119.490               4  \n",
       "2657  118.698               4  \n",
       "2658  118.679               4  \n",
       "730   123.014               4  \n",
       "1837  122.978               4  \n",
       "1324  122.861               4  \n",
       "1333  120.931               4  \n",
       "1224  144.678               4  \n",
       "1226  144.871               4  "
      ]
     },
     "execution_count": 23,
     "metadata": {},
     "output_type": "execute_result"
    }
   ],
   "source": [
    "df_org[df_org[[\"name\",\"artist\"]].duplicated(keep = False)].sort_values(by=[\"name\",\"artist\"])"
   ]
  },
  {
   "cell_type": "markdown",
   "metadata": {},
   "source": [
    "### Distribution of popularity"
   ]
  },
  {
   "cell_type": "code",
   "execution_count": 28,
   "metadata": {},
   "outputs": [
    {
     "data": {
      "text/plain": [
       "<matplotlib.axes._subplots.AxesSubplot at 0x7f9361441c70>"
      ]
     },
     "execution_count": 28,
     "metadata": {},
     "output_type": "execute_result"
    },
    {
     "data": {
      "image/png": "[encoded data removed]",
      "text/plain": [
       "<Figure size 432x288 with 1 Axes>"
      ]
     },
     "metadata": {
      "needs_background": "light"
     },
     "output_type": "display_data"
    }
   ],
   "source": [
    "df_org[\"popularity\"].hist(bins = 100)"
   ]
  },
  {
   "cell_type": "code",
   "execution_count": 33,
   "metadata": {},
   "outputs": [
    {
     "data": {
      "text/html": [
       "<div>\n",
       "<style scoped>\n",
       "    .dataframe tbody tr th:only-of-type {\n",
       "        vertical-align: middle;\n",
       "    }\n",
       "\n",
       "    .dataframe tbody tr th {\n",
       "        vertical-align: top;\n",
       "    }\n",
       "\n",
       "    .dataframe thead th {\n",
       "        text-align: right;\n",
       "    }\n",
       "</style>\n",
       "<table border=\"1\" class=\"dataframe\">\n",
       "  <thead>\n",
       "    <tr style=\"text-align: right;\">\n",
       "      <th></th>\n",
       "      <th>popularity</th>\n",
       "    </tr>\n",
       "  </thead>\n",
       "  <tbody>\n",
       "    <tr>\n",
       "      <th>0.1</th>\n",
       "      <td>62.0</td>\n",
       "    </tr>\n",
       "    <tr>\n",
       "      <th>0.2</th>\n",
       "      <td>65.0</td>\n",
       "    </tr>\n",
       "    <tr>\n",
       "      <th>0.3</th>\n",
       "      <td>68.0</td>\n",
       "    </tr>\n",
       "    <tr>\n",
       "      <th>0.4</th>\n",
       "      <td>70.0</td>\n",
       "    </tr>\n",
       "    <tr>\n",
       "      <th>0.5</th>\n",
       "      <td>72.0</td>\n",
       "    </tr>\n",
       "    <tr>\n",
       "      <th>0.6</th>\n",
       "      <td>74.0</td>\n",
       "    </tr>\n",
       "    <tr>\n",
       "      <th>0.7</th>\n",
       "      <td>76.0</td>\n",
       "    </tr>\n",
       "    <tr>\n",
       "      <th>0.8</th>\n",
       "      <td>78.0</td>\n",
       "    </tr>\n",
       "    <tr>\n",
       "      <th>0.9</th>\n",
       "      <td>81.0</td>\n",
       "    </tr>\n",
       "    <tr>\n",
       "      <th>1.0</th>\n",
       "      <td>100.0</td>\n",
       "    </tr>\n",
       "  </tbody>\n",
       "</table>\n",
       "</div>"
      ],
      "text/plain": [
       "     popularity\n",
       "0.1        62.0\n",
       "0.2        65.0\n",
       "0.3        68.0\n",
       "0.4        70.0\n",
       "0.5        72.0\n",
       "0.6        74.0\n",
       "0.7        76.0\n",
       "0.8        78.0\n",
       "0.9        81.0\n",
       "1.0       100.0"
      ]
     },
     "execution_count": 33,
     "metadata": {},
     "output_type": "execute_result"
    }
   ],
   "source": [
    "df_org[[\"popularity\"]].quantile([0.1,0.2,0.3,0.4,0.5,0.6,0.7,0.8,0.9,1])"
   ]
  },
  {
   "cell_type": "markdown",
   "metadata": {},
   "source": [
    "#### Average popularity of artist"
   ]
  },
  {
   "cell_type": "code",
   "execution_count": 52,
   "metadata": {},
   "outputs": [
    {
     "data": {
      "text/html": [
       "<div>\n",
       "<style scoped>\n",
       "    .dataframe tbody tr th:only-of-type {\n",
       "        vertical-align: middle;\n",
       "    }\n",
       "\n",
       "    .dataframe tbody tr th {\n",
       "        vertical-align: top;\n",
       "    }\n",
       "\n",
       "    .dataframe thead th {\n",
       "        text-align: right;\n",
       "    }\n",
       "</style>\n",
       "<table border=\"1\" class=\"dataframe\">\n",
       "  <thead>\n",
       "    <tr style=\"text-align: right;\">\n",
       "      <th></th>\n",
       "      <th>popularity</th>\n",
       "    </tr>\n",
       "  </thead>\n",
       "  <tbody>\n",
       "    <tr>\n",
       "      <th>count</th>\n",
       "      <td>729.000000</td>\n",
       "    </tr>\n",
       "    <tr>\n",
       "      <th>mean</th>\n",
       "      <td>70.993666</td>\n",
       "    </tr>\n",
       "    <tr>\n",
       "      <th>std</th>\n",
       "      <td>6.511053</td>\n",
       "    </tr>\n",
       "    <tr>\n",
       "      <th>min</th>\n",
       "      <td>29.000000</td>\n",
       "    </tr>\n",
       "    <tr>\n",
       "      <th>25%</th>\n",
       "      <td>67.400000</td>\n",
       "    </tr>\n",
       "    <tr>\n",
       "      <th>50%</th>\n",
       "      <td>71.250000</td>\n",
       "    </tr>\n",
       "    <tr>\n",
       "      <th>75%</th>\n",
       "      <td>75.200000</td>\n",
       "    </tr>\n",
       "    <tr>\n",
       "      <th>max</th>\n",
       "      <td>92.000000</td>\n",
       "    </tr>\n",
       "  </tbody>\n",
       "</table>\n",
       "</div>"
      ],
      "text/plain": [
       "       popularity\n",
       "count  729.000000\n",
       "mean    70.993666\n",
       "std      6.511053\n",
       "min     29.000000\n",
       "25%     67.400000\n",
       "50%     71.250000\n",
       "75%     75.200000\n",
       "max     92.000000"
      ]
     },
     "execution_count": 52,
     "metadata": {},
     "output_type": "execute_result"
    }
   ],
   "source": [
    "arist_grp = df_org.groupby([\"artist\"]).agg({\"popularity\":\"mean\"})\n",
    "arist_grp.describe()"
   ]
  },
  {
   "cell_type": "code",
   "execution_count": 53,
   "metadata": {},
   "outputs": [
    {
     "data": {
      "text/plain": [
       "array([[<matplotlib.axes._subplots.AxesSubplot object at 0x7f93626ab460>]],\n",
       "      dtype=object)"
      ]
     },
     "execution_count": 53,
     "metadata": {},
     "output_type": "execute_result"
    },
    {
     "data": {
      "image/png": "[encoded data removed]",
      "text/plain": [
       "<Figure size 432x288 with 1 Axes>"
      ]
     },
     "metadata": {
      "needs_background": "light"
     },
     "output_type": "display_data"
    }
   ],
   "source": [
    "arist_grp.hist(bins=20)"
   ]
  },
  {
   "cell_type": "code",
   "execution_count": 54,
   "metadata": {},
   "outputs": [
    {
     "data": {
      "text/html": [
       "<div>\n",
       "<style scoped>\n",
       "    .dataframe tbody tr th:only-of-type {\n",
       "        vertical-align: middle;\n",
       "    }\n",
       "\n",
       "    .dataframe tbody tr th {\n",
       "        vertical-align: top;\n",
       "    }\n",
       "\n",
       "    .dataframe thead th {\n",
       "        text-align: right;\n",
       "    }\n",
       "</style>\n",
       "<table border=\"1\" class=\"dataframe\">\n",
       "  <thead>\n",
       "    <tr style=\"text-align: right;\">\n",
       "      <th></th>\n",
       "      <th>popularity</th>\n",
       "    </tr>\n",
       "  </thead>\n",
       "  <tbody>\n",
       "    <tr>\n",
       "      <th>0.1</th>\n",
       "      <td>63.080000</td>\n",
       "    </tr>\n",
       "    <tr>\n",
       "      <th>0.2</th>\n",
       "      <td>66.320000</td>\n",
       "    </tr>\n",
       "    <tr>\n",
       "      <th>0.3</th>\n",
       "      <td>68.146667</td>\n",
       "    </tr>\n",
       "    <tr>\n",
       "      <th>0.4</th>\n",
       "      <td>70.000000</td>\n",
       "    </tr>\n",
       "    <tr>\n",
       "      <th>0.5</th>\n",
       "      <td>71.250000</td>\n",
       "    </tr>\n",
       "    <tr>\n",
       "      <th>0.6</th>\n",
       "      <td>72.852381</td>\n",
       "    </tr>\n",
       "    <tr>\n",
       "      <th>0.7</th>\n",
       "      <td>74.390000</td>\n",
       "    </tr>\n",
       "    <tr>\n",
       "      <th>0.8</th>\n",
       "      <td>76.050000</td>\n",
       "    </tr>\n",
       "    <tr>\n",
       "      <th>0.9</th>\n",
       "      <td>78.607273</td>\n",
       "    </tr>\n",
       "    <tr>\n",
       "      <th>1.0</th>\n",
       "      <td>92.000000</td>\n",
       "    </tr>\n",
       "  </tbody>\n",
       "</table>\n",
       "</div>"
      ],
      "text/plain": [
       "     popularity\n",
       "0.1   63.080000\n",
       "0.2   66.320000\n",
       "0.3   68.146667\n",
       "0.4   70.000000\n",
       "0.5   71.250000\n",
       "0.6   72.852381\n",
       "0.7   74.390000\n",
       "0.8   76.050000\n",
       "0.9   78.607273\n",
       "1.0   92.000000"
      ]
     },
     "execution_count": 54,
     "metadata": {},
     "output_type": "execute_result"
    }
   ],
   "source": [
    "arist_grp.quantile([0.1,0.2,0.3,0.4,0.5,0.6,0.7,0.8,0.9,1])"
   ]
  },
  {
   "cell_type": "code",
   "execution_count": 55,
   "metadata": {},
   "outputs": [
    {
     "data": {
      "text/plain": [
       "Index(['popularity'], dtype='object')"
      ]
     },
     "execution_count": 55,
     "metadata": {},
     "output_type": "execute_result"
    }
   ],
   "source": [
    "arist_grp.columns"
   ]
  },
  {
   "cell_type": "code",
   "execution_count": 56,
   "metadata": {},
   "outputs": [
    {
     "data": {
      "text/plain": [
       "artist\n",
       "$NOT                 64.000000\n",
       "$uicideboy$          78.300000\n",
       "2 Chainz             65.600000\n",
       "21 Savage            77.454545\n",
       "220 KID              68.000000\n",
       "                       ...    \n",
       "benny blanco         68.750000\n",
       "blackbear            75.333333\n",
       "blink-182            74.300000\n",
       "salem ilese          77.000000\n",
       "sped up nightcore    75.000000\n",
       "Name: popularity, Length: 729, dtype: float64"
      ]
     },
     "execution_count": 56,
     "metadata": {},
     "output_type": "execute_result"
    }
   ],
   "source": [
    "arist_grp[\"popularity\"]"
   ]
  },
  {
   "cell_type": "code",
   "execution_count": 57,
   "metadata": {},
   "outputs": [
    {
     "data": {
      "image/png": "[encoded data removed]",
      "text/plain": [
       "<Figure size 432x288 with 1 Axes>"
      ]
     },
     "execution_count": 57,
     "metadata": {},
     "output_type": "execute_result"
    },
    {
     "data": {
      "image/png": "[encoded data removed]",
      "text/plain": [
       "<Figure size 432x288 with 1 Axes>"
      ]
     },
     "metadata": {
      "needs_background": "light"
     },
     "output_type": "display_data"
    }
   ],
   "source": [
    "x = arist_grp[\"popularity\"]\n",
    "sm.qqplot(x)"
   ]
  },
  {
   "cell_type": "code",
   "execution_count": 58,
   "metadata": {},
   "outputs": [],
   "source": [
    "arist_grp[\"artist_buckets\"] = np.where(arist_grp[\"popularity\"]<=60,\"a.<=60\",\\\n",
    "                                       np.where(arist_grp[\"popularity\"]<=70,\"b.<=70\",\\\n",
    "                                               np.where(arist_grp[\"popularity\"]<=75,\"c.<=75\",\\\n",
    "                                                        np.where(arist_grp[\"popularity\"]<=80,\"d.<=80\",\"e.>80\"))))"
   ]
  },
  {
   "cell_type": "code",
   "execution_count": 79,
   "metadata": {},
   "outputs": [
    {
     "data": {
      "text/html": [
       "<div>\n",
       "<style scoped>\n",
       "    .dataframe tbody tr th:only-of-type {\n",
       "        vertical-align: middle;\n",
       "    }\n",
       "\n",
       "    .dataframe tbody tr th {\n",
       "        vertical-align: top;\n",
       "    }\n",
       "\n",
       "    .dataframe thead th {\n",
       "        text-align: right;\n",
       "    }\n",
       "</style>\n",
       "<table border=\"1\" class=\"dataframe\">\n",
       "  <thead>\n",
       "    <tr style=\"text-align: right;\">\n",
       "      <th></th>\n",
       "      <th>popularity</th>\n",
       "    </tr>\n",
       "    <tr>\n",
       "      <th>artist_buckets</th>\n",
       "      <th></th>\n",
       "    </tr>\n",
       "  </thead>\n",
       "  <tbody>\n",
       "    <tr>\n",
       "      <th>a.&lt;=60</th>\n",
       "      <td>46</td>\n",
       "    </tr>\n",
       "    <tr>\n",
       "      <th>b.&lt;=70</th>\n",
       "      <td>258</td>\n",
       "    </tr>\n",
       "    <tr>\n",
       "      <th>c.&lt;=75</th>\n",
       "      <td>237</td>\n",
       "    </tr>\n",
       "    <tr>\n",
       "      <th>d.&lt;=80</th>\n",
       "      <td>144</td>\n",
       "    </tr>\n",
       "    <tr>\n",
       "      <th>e.&gt;80</th>\n",
       "      <td>44</td>\n",
       "    </tr>\n",
       "  </tbody>\n",
       "</table>\n",
       "</div>"
      ],
      "text/plain": [
       "                popularity\n",
       "artist_buckets            \n",
       "a.<=60                  46\n",
       "b.<=70                 258\n",
       "c.<=75                 237\n",
       "d.<=80                 144\n",
       "e.>80                   44"
      ]
     },
     "execution_count": 79,
     "metadata": {},
     "output_type": "execute_result"
    }
   ],
   "source": [
    "arist_grp.groupby([\"artist_buckets\"]).count()"
   ]
  },
  {
   "cell_type": "code",
   "execution_count": 60,
   "metadata": {},
   "outputs": [
    {
     "data": {
      "text/plain": [
       "name                 4576\n",
       "album                4576\n",
       "artist               4576\n",
       "release_date         4576\n",
       "length               4576\n",
       "popularity           4576\n",
       "danceability         4576\n",
       "acousticness         4576\n",
       "energy               4576\n",
       "instrumentalness     4576\n",
       "liveness             4576\n",
       "loudness             4576\n",
       "speechiness          4576\n",
       "tempo                4576\n",
       "time_signature       4576\n",
       "popularity_artist    4576\n",
       "artist_buckets       4576\n",
       "dtype: int64"
      ]
     },
     "execution_count": 60,
     "metadata": {},
     "output_type": "execute_result"
    }
   ],
   "source": [
    "joined = df_org.merge(arist_grp.reset_index(),left_on= [\"artist\"],\\\n",
    "                      right_on=[\"artist\"],how=\"left\",suffixes=(\"\",\"_artist\"))\n",
    "joined.count()"
   ]
  },
  {
   "cell_type": "markdown",
   "metadata": {},
   "source": [
    "### Tukey with Artist Buckets "
   ]
  },
  {
   "cell_type": "code",
   "execution_count": 77,
   "metadata": {},
   "outputs": [],
   "source": [
    "def ad_tukey(grp=\"\",reponse=\"\"): \n",
    "    tukey = pairwise_tukeyhsd(endog=joined[response],\n",
    "                          groups=joined[grp],alpha=0.01)\n",
    "    sns.boxplot(data=joined, x=response, y=grp)\n",
    "    plt.show()\n",
    "    print (tukey)"
   ]
  },
  {
   "cell_type": "code",
   "execution_count": 78,
   "metadata": {},
   "outputs": [
    {
     "name": "stdout",
     "output_type": "stream",
     "text": [
      "Group Variable: artist_buckets, Response Variable: danceability\n"
     ]
    },
    {
     "data": {
      "image/png": "[encoded data removed]",
      "text/plain": [
       "<Figure size 432x288 with 1 Axes>"
      ]
     },
     "metadata": {
      "needs_background": "light"
     },
     "output_type": "display_data"
    },
    {
     "name": "stdout",
     "output_type": "stream",
     "text": [
      "Multiple Comparison of Means - Tukey HSD, FWER=0.01\n",
      "===================================================\n",
      "group1 group2 meandiff p-adj   lower  upper  reject\n",
      "---------------------------------------------------\n",
      "a.<=60 b.<=70   0.0157 0.5759 -0.0193 0.0508  False\n",
      "a.<=60 c.<=75   0.0428  0.001  0.0077  0.078   True\n",
      "a.<=60 d.<=80   0.0593  0.001  0.0229 0.0958   True\n",
      "a.<=60  e.>80   0.0547  0.001  0.0117 0.0977   True\n",
      "b.<=70 c.<=75   0.0271  0.001  0.0094 0.0448   True\n",
      "b.<=70 d.<=80   0.0436  0.001  0.0233 0.0638   True\n",
      "b.<=70  e.>80    0.039  0.001  0.0084 0.0695   True\n",
      "c.<=75 d.<=80   0.0165 0.0646 -0.0039 0.0369  False\n",
      "c.<=75  e.>80   0.0119 0.6893 -0.0188 0.0425  False\n",
      "d.<=80  e.>80  -0.0046    0.9 -0.0367 0.0275  False\n",
      "---------------------------------------------------\n",
      "\n",
      "Group Variable: artist_buckets, Response Variable: energy\n"
     ]
    },
    {
     "data": {
      "image/png": "[encoded data removed]",
      "text/plain": [
       "<Figure size 432x288 with 1 Axes>"
      ]
     },
     "metadata": {
      "needs_background": "light"
     },
     "output_type": "display_data"
    },
    {
     "name": "stdout",
     "output_type": "stream",
     "text": [
      "Multiple Comparison of Means - Tukey HSD, FWER=0.01 \n",
      "====================================================\n",
      "group1 group2 meandiff p-adj   lower   upper  reject\n",
      "----------------------------------------------------\n",
      "a.<=60 b.<=70  -0.0041    0.9 -0.0473   0.039  False\n",
      "a.<=60 c.<=75   0.0207 0.5205 -0.0225  0.0639  False\n",
      "a.<=60 d.<=80   0.0172 0.6963 -0.0276  0.0621  False\n",
      "a.<=60  e.>80   -0.035 0.1982 -0.0879   0.018  False\n",
      "b.<=70 c.<=75   0.0248  0.002   0.003  0.0467   True\n",
      "b.<=70 d.<=80   0.0213 0.0418 -0.0035  0.0462  False\n",
      "b.<=70  e.>80  -0.0309  0.058 -0.0684  0.0067  False\n",
      "c.<=75 d.<=80  -0.0035    0.9 -0.0286  0.0216  False\n",
      "c.<=75  e.>80  -0.0557  0.001 -0.0934  -0.018   True\n",
      "d.<=80  e.>80  -0.0522  0.001 -0.0917 -0.0127   True\n",
      "----------------------------------------------------\n",
      "\n",
      "Group Variable: artist_buckets, Response Variable: tempo\n"
     ]
    },
    {
     "data": {
      "image/png": "[encoded data removed]",
      "text/plain": [
       "<Figure size 432x288 with 1 Axes>"
      ]
     },
     "metadata": {
      "needs_background": "light"
     },
     "output_type": "display_data"
    },
    {
     "name": "stdout",
     "output_type": "stream",
     "text": [
      "Multiple Comparison of Means - Tukey HSD, FWER=0.01 \n",
      "====================================================\n",
      "group1 group2 meandiff p-adj   lower   upper  reject\n",
      "----------------------------------------------------\n",
      "a.<=60 b.<=70   4.1971 0.2408 -2.4598 10.8541  False\n",
      "a.<=60 c.<=75    5.448 0.0605 -1.2247 12.1207  False\n",
      "a.<=60 d.<=80   4.5754 0.1983 -2.3477 11.4985  False\n",
      "a.<=60  e.>80   2.7635 0.7805 -5.4099 10.9369  False\n",
      "b.<=70 c.<=75   1.2509 0.7193  -2.119  4.6208  False\n",
      "b.<=70 d.<=80   0.3783    0.9 -3.4637  4.2203  False\n",
      "b.<=70  e.>80  -1.4337    0.9 -7.2333   4.366  False\n",
      "c.<=75 d.<=80  -0.8726    0.9 -4.7418  2.9966  False\n",
      "c.<=75  e.>80  -2.6846 0.5525 -8.5023  3.1332  False\n",
      "d.<=80  e.>80  -1.8119 0.8566 -7.9153  4.2914  False\n",
      "----------------------------------------------------\n",
      "\n",
      "Group Variable: artist_buckets, Response Variable: instrumentalness\n"
     ]
    },
    {
     "data": {
      "image/png": "[encoded data removed]",
      "text/plain": [
       "<Figure size 432x288 with 1 Axes>"
      ]
     },
     "metadata": {
      "needs_background": "light"
     },
     "output_type": "display_data"
    },
    {
     "name": "stdout",
     "output_type": "stream",
     "text": [
      "Multiple Comparison of Means - Tukey HSD, FWER=0.01 \n",
      "====================================================\n",
      "group1 group2 meandiff p-adj   lower   upper  reject\n",
      "----------------------------------------------------\n",
      "a.<=60 b.<=70  -0.0048    0.9 -0.0303  0.0207  False\n",
      "a.<=60 c.<=75  -0.0213 0.0532 -0.0468  0.0043  False\n",
      "a.<=60 d.<=80  -0.0235 0.0324   -0.05  0.0031  False\n",
      "a.<=60  e.>80  -0.0285 0.0259 -0.0598  0.0029  False\n",
      "b.<=70 c.<=75  -0.0165  0.001 -0.0294 -0.0035   True\n",
      "b.<=70 d.<=80  -0.0187  0.001 -0.0334  -0.004   True\n",
      "b.<=70  e.>80  -0.0237 0.0049 -0.0459 -0.0014   True\n",
      "c.<=75 d.<=80  -0.0022    0.9 -0.0171  0.0126  False\n",
      "c.<=75  e.>80  -0.0072 0.8086 -0.0295  0.0151  False\n",
      "d.<=80  e.>80   -0.005    0.9 -0.0284  0.0184  False\n",
      "----------------------------------------------------\n",
      "\n",
      "Group Variable: artist_buckets, Response Variable: energy\n"
     ]
    },
    {
     "data": {
      "image/png": "[encoded data removed]",
      "text/plain": [
       "<Figure size 432x288 with 1 Axes>"
      ]
     },
     "metadata": {
      "needs_background": "light"
     },
     "output_type": "display_data"
    },
    {
     "name": "stdout",
     "output_type": "stream",
     "text": [
      "Multiple Comparison of Means - Tukey HSD, FWER=0.01 \n",
      "====================================================\n",
      "group1 group2 meandiff p-adj   lower   upper  reject\n",
      "----------------------------------------------------\n",
      "a.<=60 b.<=70  -0.0041    0.9 -0.0473   0.039  False\n",
      "a.<=60 c.<=75   0.0207 0.5205 -0.0225  0.0639  False\n",
      "a.<=60 d.<=80   0.0172 0.6963 -0.0276  0.0621  False\n",
      "a.<=60  e.>80   -0.035 0.1982 -0.0879   0.018  False\n",
      "b.<=70 c.<=75   0.0248  0.002   0.003  0.0467   True\n",
      "b.<=70 d.<=80   0.0213 0.0418 -0.0035  0.0462  False\n",
      "b.<=70  e.>80  -0.0309  0.058 -0.0684  0.0067  False\n",
      "c.<=75 d.<=80  -0.0035    0.9 -0.0286  0.0216  False\n",
      "c.<=75  e.>80  -0.0557  0.001 -0.0934  -0.018   True\n",
      "d.<=80  e.>80  -0.0522  0.001 -0.0917 -0.0127   True\n",
      "----------------------------------------------------\n",
      "\n",
      "Group Variable: artist_buckets, Response Variable: acousticness\n"
     ]
    },
    {
     "data": {
      "image/png": "[encoded data removed]",
      "text/plain": [
       "<Figure size 432x288 with 1 Axes>"
      ]
     },
     "metadata": {
      "needs_background": "light"
     },
     "output_type": "display_data"
    },
    {
     "name": "stdout",
     "output_type": "stream",
     "text": [
      "Multiple Comparison of Means - Tukey HSD, FWER=0.01 \n",
      "====================================================\n",
      "group1 group2 meandiff p-adj   lower   upper  reject\n",
      "----------------------------------------------------\n",
      "a.<=60 b.<=70   0.0057    0.9 -0.0528  0.0641  False\n",
      "a.<=60 c.<=75  -0.0432 0.1144 -0.1018  0.0153  False\n",
      "a.<=60 d.<=80  -0.0508 0.0505 -0.1116  0.0099  False\n",
      "a.<=60  e.>80  -0.0061    0.9 -0.0778  0.0656  False\n",
      "b.<=70 c.<=75  -0.0489  0.001 -0.0784 -0.0193   True\n",
      "b.<=70 d.<=80  -0.0565  0.001 -0.0902 -0.0228   True\n",
      "b.<=70  e.>80  -0.0117    0.9 -0.0626  0.0392  False\n",
      "c.<=75 d.<=80  -0.0076    0.9 -0.0416  0.0263  False\n",
      "c.<=75  e.>80   0.0372 0.1239 -0.0139  0.0882  False\n",
      "d.<=80  e.>80   0.0448 0.0509 -0.0088  0.0983  False\n",
      "----------------------------------------------------\n",
      "\n"
     ]
    }
   ],
   "source": [
    "grp = \"artist_buckets\"\n",
    "for response in [\"danceability\",\"energy\", \"tempo\", \"instrumentalness\", \"energy\", \"acousticness\"]:\n",
    "    print (f\"Group Variable: {grp}, Response Variable: {response}\")\n",
    "    ad_tukey(grp,response)\n",
    "    print()"
   ]
  },
  {
   "cell_type": "markdown",
   "metadata": {},
   "source": [
    "### Spatial Analysis of Artists"
   ]
  },
  {
   "cell_type": "code",
   "execution_count": null,
   "metadata": {},
   "outputs": [],
   "source": []
  },
  {
   "cell_type": "code",
   "execution_count": null,
   "metadata": {},
   "outputs": [],
   "source": []
  }
 ],
 "metadata": {
  "kernelspec": {
   "display_name": "Python 3",
   "language": "python",
   "name": "python3"
  },
  "language_info": {
   "codemirror_mode": {
    "name": "ipython",
    "version": 3
   },
   "file_extension": ".py",
   "mimetype": "text/x-python",
   "name": "python",
   "nbconvert_exporter": "python",
   "pygments_lexer": "ipython3",
   "version": "3.8.3"
  }
 },
 "nbformat": 4,
 "nbformat_minor": 4
}
