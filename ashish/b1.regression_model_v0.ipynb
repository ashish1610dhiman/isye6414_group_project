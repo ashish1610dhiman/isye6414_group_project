{
 "cells": [
  {
   "cell_type": "code",
   "execution_count": 1,
   "metadata": {},
   "outputs": [
    {
     "name": "stdout",
     "output_type": "stream",
     "text": [
      "/Users/ashish1610dhiman/data_projects/fall22_hw/isye6414_group_project/ashish\r\n"
     ]
    }
   ],
   "source": [
    "!pwd"
   ]
  },
  {
   "cell_type": "code",
   "execution_count": 86,
   "metadata": {},
   "outputs": [],
   "source": [
    "import pandas as pd\n",
    "import numpy as np\n",
    "import seaborn as sns\n",
    "import statsmodels.api as sm\n",
    "from sklearn.preprocessing import MinMaxScaler\n",
    "import matplotlib.pyplot as plt"
   ]
  },
  {
   "cell_type": "code",
   "execution_count": 90,
   "metadata": {},
   "outputs": [],
   "source": [
    "plt.style.use('seaborn')"
   ]
  },
  {
   "cell_type": "markdown",
   "metadata": {},
   "source": [
    "### 1. get data and create artist level features"
   ]
  },
  {
   "cell_type": "code",
   "execution_count": 3,
   "metadata": {},
   "outputs": [
    {
     "data": {
      "text/plain": [
       "(4576, 15)"
      ]
     },
     "execution_count": 3,
     "metadata": {},
     "output_type": "execute_result"
    }
   ],
   "source": [
    "df_org = pd.read_csv(\"top_500_artists_deduplicate.csv\")\n",
    "df_org.shape"
   ]
  },
  {
   "cell_type": "code",
   "execution_count": 4,
   "metadata": {},
   "outputs": [
    {
     "data": {
      "text/plain": [
       "Index(['name', 'album', 'artist', 'release_date', 'length', 'popularity',\n",
       "       'danceability', 'acousticness', 'energy', 'instrumentalness',\n",
       "       'liveness', 'loudness', 'speechiness', 'tempo', 'time_signature'],\n",
       "      dtype='object')"
      ]
     },
     "execution_count": 4,
     "metadata": {},
     "output_type": "execute_result"
    }
   ],
   "source": [
    "df_org.columns"
   ]
  },
  {
   "cell_type": "markdown",
   "metadata": {},
   "source": [
    "*Removing the 8 duplicates instances for now"
   ]
  },
  {
   "cell_type": "code",
   "execution_count": 5,
   "metadata": {},
   "outputs": [
    {
     "data": {
      "text/html": [
       "<div>\n",
       "<style scoped>\n",
       "    .dataframe tbody tr th:only-of-type {\n",
       "        vertical-align: middle;\n",
       "    }\n",
       "\n",
       "    .dataframe tbody tr th {\n",
       "        vertical-align: top;\n",
       "    }\n",
       "\n",
       "    .dataframe thead tr th {\n",
       "        text-align: left;\n",
       "    }\n",
       "</style>\n",
       "<table border=\"1\" class=\"dataframe\">\n",
       "  <thead>\n",
       "    <tr>\n",
       "      <th></th>\n",
       "      <th colspan=\"2\" halign=\"left\">popularity</th>\n",
       "    </tr>\n",
       "    <tr>\n",
       "      <th></th>\n",
       "      <th>sum</th>\n",
       "      <th>count</th>\n",
       "    </tr>\n",
       "  </thead>\n",
       "  <tbody>\n",
       "    <tr>\n",
       "      <th>count</th>\n",
       "      <td>729.000000</td>\n",
       "      <td>729.000000</td>\n",
       "    </tr>\n",
       "    <tr>\n",
       "      <th>mean</th>\n",
       "      <td>448.242798</td>\n",
       "      <td>6.277092</td>\n",
       "    </tr>\n",
       "    <tr>\n",
       "      <th>std</th>\n",
       "      <td>297.313613</td>\n",
       "      <td>4.089659</td>\n",
       "    </tr>\n",
       "    <tr>\n",
       "      <th>min</th>\n",
       "      <td>29.000000</td>\n",
       "      <td>1.000000</td>\n",
       "    </tr>\n",
       "    <tr>\n",
       "      <th>25%</th>\n",
       "      <td>80.000000</td>\n",
       "      <td>1.000000</td>\n",
       "    </tr>\n",
       "    <tr>\n",
       "      <th>50%</th>\n",
       "      <td>532.000000</td>\n",
       "      <td>8.000000</td>\n",
       "    </tr>\n",
       "    <tr>\n",
       "      <th>75%</th>\n",
       "      <td>678.000000</td>\n",
       "      <td>10.000000</td>\n",
       "    </tr>\n",
       "    <tr>\n",
       "      <th>max</th>\n",
       "      <td>2481.000000</td>\n",
       "      <td>37.000000</td>\n",
       "    </tr>\n",
       "  </tbody>\n",
       "</table>\n",
       "</div>"
      ],
      "text/plain": [
       "        popularity            \n",
       "               sum       count\n",
       "count   729.000000  729.000000\n",
       "mean    448.242798    6.277092\n",
       "std     297.313613    4.089659\n",
       "min      29.000000    1.000000\n",
       "25%      80.000000    1.000000\n",
       "50%     532.000000    8.000000\n",
       "75%     678.000000   10.000000\n",
       "max    2481.000000   37.000000"
      ]
     },
     "execution_count": 5,
     "metadata": {},
     "output_type": "execute_result"
    }
   ],
   "source": [
    "arist_grp = df_org.groupby([\"artist\"]).agg({\"popularity\":[\"sum\",\"count\"]})\n",
    "arist_grp.describe()"
   ]
  },
  {
   "cell_type": "code",
   "execution_count": 6,
   "metadata": {},
   "outputs": [
    {
     "data": {
      "text/html": [
       "<div>\n",
       "<style scoped>\n",
       "    .dataframe tbody tr th:only-of-type {\n",
       "        vertical-align: middle;\n",
       "    }\n",
       "\n",
       "    .dataframe tbody tr th {\n",
       "        vertical-align: top;\n",
       "    }\n",
       "\n",
       "    .dataframe thead tr th {\n",
       "        text-align: left;\n",
       "    }\n",
       "</style>\n",
       "<table border=\"1\" class=\"dataframe\">\n",
       "  <thead>\n",
       "    <tr>\n",
       "      <th></th>\n",
       "      <th colspan=\"2\" halign=\"left\">popularity</th>\n",
       "    </tr>\n",
       "    <tr>\n",
       "      <th></th>\n",
       "      <th>sum</th>\n",
       "      <th>count</th>\n",
       "    </tr>\n",
       "  </thead>\n",
       "  <tbody>\n",
       "    <tr>\n",
       "      <th>count</th>\n",
       "      <td>2927.000000</td>\n",
       "      <td>2927.000000</td>\n",
       "    </tr>\n",
       "    <tr>\n",
       "      <th>mean</th>\n",
       "      <td>111.639563</td>\n",
       "      <td>1.563375</td>\n",
       "    </tr>\n",
       "    <tr>\n",
       "      <th>std</th>\n",
       "      <td>78.506337</td>\n",
       "      <td>1.058442</td>\n",
       "    </tr>\n",
       "    <tr>\n",
       "      <th>min</th>\n",
       "      <td>27.000000</td>\n",
       "      <td>1.000000</td>\n",
       "    </tr>\n",
       "    <tr>\n",
       "      <th>25%</th>\n",
       "      <td>68.000000</td>\n",
       "      <td>1.000000</td>\n",
       "    </tr>\n",
       "    <tr>\n",
       "      <th>50%</th>\n",
       "      <td>76.000000</td>\n",
       "      <td>1.000000</td>\n",
       "    </tr>\n",
       "    <tr>\n",
       "      <th>75%</th>\n",
       "      <td>139.000000</td>\n",
       "      <td>2.000000</td>\n",
       "    </tr>\n",
       "    <tr>\n",
       "      <th>max</th>\n",
       "      <td>1020.000000</td>\n",
       "      <td>11.000000</td>\n",
       "    </tr>\n",
       "  </tbody>\n",
       "</table>\n",
       "</div>"
      ],
      "text/plain": [
       "        popularity             \n",
       "               sum        count\n",
       "count  2927.000000  2927.000000\n",
       "mean    111.639563     1.563375\n",
       "std      78.506337     1.058442\n",
       "min      27.000000     1.000000\n",
       "25%      68.000000     1.000000\n",
       "50%      76.000000     1.000000\n",
       "75%     139.000000     2.000000\n",
       "max    1020.000000    11.000000"
      ]
     },
     "execution_count": 6,
     "metadata": {},
     "output_type": "execute_result"
    }
   ],
   "source": [
    "album_grp = df_org.groupby([\"album\"]).agg({\"popularity\":[\"sum\",\"count\"]})\n",
    "album_grp.describe()"
   ]
  },
  {
   "cell_type": "code",
   "execution_count": 7,
   "metadata": {},
   "outputs": [],
   "source": [
    "arist_grp = arist_grp.reset_index()\n",
    "arist_grp.columns = [\"artist\",\"popularity_sum\", \"popularity_count\"]"
   ]
  },
  {
   "cell_type": "code",
   "execution_count": 8,
   "metadata": {},
   "outputs": [
    {
     "data": {
      "text/plain": [
       "(4576, 17)"
      ]
     },
     "execution_count": 8,
     "metadata": {},
     "output_type": "execute_result"
    }
   ],
   "source": [
    "joined1 = df_org.merge(arist_grp,on=[\"artist\"],how=\"left\",suffixes=[\"_\",\"_artist\"])\n",
    "joined1.shape"
   ]
  },
  {
   "cell_type": "code",
   "execution_count": 9,
   "metadata": {},
   "outputs": [
    {
     "data": {
      "text/plain": [
       "Index(['name', 'album', 'artist', 'release_date', 'length', 'popularity',\n",
       "       'danceability', 'acousticness', 'energy', 'instrumentalness',\n",
       "       'liveness', 'loudness', 'speechiness', 'tempo', 'time_signature',\n",
       "       'popularity_sum', 'popularity_count'],\n",
       "      dtype='object')"
      ]
     },
     "execution_count": 9,
     "metadata": {},
     "output_type": "execute_result"
    }
   ],
   "source": [
    "joined1.columns"
   ]
  },
  {
   "cell_type": "code",
   "execution_count": 10,
   "metadata": {},
   "outputs": [],
   "source": [
    "album_grp = album_grp.reset_index()\n",
    "album_grp.columns = [\"album\",\"popularity_sum\", \"popularity_count\"]"
   ]
  },
  {
   "cell_type": "code",
   "execution_count": 11,
   "metadata": {},
   "outputs": [
    {
     "data": {
      "text/plain": [
       "(4576, 19)"
      ]
     },
     "execution_count": 11,
     "metadata": {},
     "output_type": "execute_result"
    }
   ],
   "source": [
    "joined2 = joined1.merge(album_grp,on=[\"album\"],how=\"left\",suffixes=[\"\",\"_album\"])\n",
    "joined2.shape"
   ]
  },
  {
   "cell_type": "code",
   "execution_count": 12,
   "metadata": {},
   "outputs": [
    {
     "data": {
      "text/plain": [
       "Index(['name', 'album', 'artist', 'release_date', 'length', 'popularity',\n",
       "       'danceability', 'acousticness', 'energy', 'instrumentalness',\n",
       "       'liveness', 'loudness', 'speechiness', 'tempo', 'time_signature',\n",
       "       'popularity_sum', 'popularity_count', 'popularity_sum_album',\n",
       "       'popularity_count_album'],\n",
       "      dtype='object')"
      ]
     },
     "execution_count": 12,
     "metadata": {},
     "output_type": "execute_result"
    }
   ],
   "source": [
    "joined2.columns"
   ]
  },
  {
   "cell_type": "markdown",
   "metadata": {},
   "source": [
    "#### Create Artist and Album popularity agg variables"
   ]
  },
  {
   "cell_type": "code",
   "execution_count": 13,
   "metadata": {},
   "outputs": [],
   "source": [
    "joined2[\"artist_avg_pop_other\"]=(joined2[\"popularity_sum\"]-joined2[\"popularity\"])/\\\n",
    "(joined2[\"popularity_count\"]-1)\n",
    "\n",
    "joined2[\"album_avg_pop_other\"]=(joined2[\"popularity_sum_album\"]-joined2[\"popularity\"])/\\\n",
    "(joined2[\"popularity_count_album\"]-1)"
   ]
  },
  {
   "cell_type": "code",
   "execution_count": 14,
   "metadata": {},
   "outputs": [
    {
     "data": {
      "text/plain": [
       "name                         0\n",
       "album                        0\n",
       "artist                       0\n",
       "release_date                 0\n",
       "length                       0\n",
       "popularity                   0\n",
       "danceability                 0\n",
       "acousticness                 0\n",
       "energy                       0\n",
       "instrumentalness             0\n",
       "liveness                     0\n",
       "loudness                     0\n",
       "speechiness                  0\n",
       "tempo                        0\n",
       "time_signature               0\n",
       "popularity_sum               0\n",
       "popularity_count             0\n",
       "popularity_sum_album         0\n",
       "popularity_count_album       0\n",
       "artist_avg_pop_other       197\n",
       "album_avg_pop_other       2001\n",
       "dtype: int64"
      ]
     },
     "execution_count": 14,
     "metadata": {},
     "output_type": "execute_result"
    }
   ],
   "source": [
    "joined2.isna().sum()"
   ]
  },
  {
   "cell_type": "code",
   "execution_count": 15,
   "metadata": {},
   "outputs": [
    {
     "data": {
      "text/html": [
       "<div>\n",
       "<style scoped>\n",
       "    .dataframe tbody tr th:only-of-type {\n",
       "        vertical-align: middle;\n",
       "    }\n",
       "\n",
       "    .dataframe tbody tr th {\n",
       "        vertical-align: top;\n",
       "    }\n",
       "\n",
       "    .dataframe thead th {\n",
       "        text-align: right;\n",
       "    }\n",
       "</style>\n",
       "<table border=\"1\" class=\"dataframe\">\n",
       "  <thead>\n",
       "    <tr style=\"text-align: right;\">\n",
       "      <th></th>\n",
       "      <th>name</th>\n",
       "      <th>album</th>\n",
       "      <th>artist</th>\n",
       "      <th>release_date</th>\n",
       "      <th>length</th>\n",
       "      <th>popularity</th>\n",
       "      <th>danceability</th>\n",
       "      <th>acousticness</th>\n",
       "      <th>energy</th>\n",
       "      <th>instrumentalness</th>\n",
       "      <th>...</th>\n",
       "      <th>loudness</th>\n",
       "      <th>speechiness</th>\n",
       "      <th>tempo</th>\n",
       "      <th>time_signature</th>\n",
       "      <th>popularity_sum</th>\n",
       "      <th>popularity_count</th>\n",
       "      <th>popularity_sum_album</th>\n",
       "      <th>popularity_count_album</th>\n",
       "      <th>artist_avg_pop_other</th>\n",
       "      <th>album_avg_pop_other</th>\n",
       "    </tr>\n",
       "  </thead>\n",
       "  <tbody>\n",
       "    <tr>\n",
       "      <th>28</th>\n",
       "      <td>For My Hand (feat. Ed Sheeran)</td>\n",
       "      <td>Love, Damini</td>\n",
       "      <td>Burna Boy</td>\n",
       "      <td>2022-07-07</td>\n",
       "      <td>159123</td>\n",
       "      <td>84</td>\n",
       "      <td>0.870</td>\n",
       "      <td>0.161000</td>\n",
       "      <td>0.479</td>\n",
       "      <td>0.000157</td>\n",
       "      <td>...</td>\n",
       "      <td>-7.779</td>\n",
       "      <td>0.1650</td>\n",
       "      <td>104.059</td>\n",
       "      <td>4</td>\n",
       "      <td>84</td>\n",
       "      <td>1</td>\n",
       "      <td>84</td>\n",
       "      <td>1</td>\n",
       "      <td>NaN</td>\n",
       "      <td>NaN</td>\n",
       "    </tr>\n",
       "    <tr>\n",
       "      <th>37</th>\n",
       "      <td>Lost in the Fire (feat. The Weeknd)</td>\n",
       "      <td>Hyperion</td>\n",
       "      <td>Gesaffelstein</td>\n",
       "      <td>2019-03-08</td>\n",
       "      <td>202093</td>\n",
       "      <td>85</td>\n",
       "      <td>0.658</td>\n",
       "      <td>0.093300</td>\n",
       "      <td>0.671</td>\n",
       "      <td>0.000927</td>\n",
       "      <td>...</td>\n",
       "      <td>-12.210</td>\n",
       "      <td>0.0363</td>\n",
       "      <td>100.966</td>\n",
       "      <td>4</td>\n",
       "      <td>85</td>\n",
       "      <td>1</td>\n",
       "      <td>85</td>\n",
       "      <td>1</td>\n",
       "      <td>NaN</td>\n",
       "      <td>NaN</td>\n",
       "    </tr>\n",
       "    <tr>\n",
       "      <th>221</th>\n",
       "      <td>THE SCOTTS</td>\n",
       "      <td>THE SCOTTS</td>\n",
       "      <td>THE SCOTTS</td>\n",
       "      <td>2020-04-24</td>\n",
       "      <td>165977</td>\n",
       "      <td>78</td>\n",
       "      <td>0.716</td>\n",
       "      <td>0.233000</td>\n",
       "      <td>0.537</td>\n",
       "      <td>0.000000</td>\n",
       "      <td>...</td>\n",
       "      <td>-7.648</td>\n",
       "      <td>0.0514</td>\n",
       "      <td>129.979</td>\n",
       "      <td>4</td>\n",
       "      <td>78</td>\n",
       "      <td>1</td>\n",
       "      <td>78</td>\n",
       "      <td>1</td>\n",
       "      <td>NaN</td>\n",
       "      <td>NaN</td>\n",
       "    </tr>\n",
       "    <tr>\n",
       "      <th>279</th>\n",
       "      <td>family ties (with Kendrick Lamar)</td>\n",
       "      <td>The Melodic Blue</td>\n",
       "      <td>Baby Keem</td>\n",
       "      <td>2021-09-10</td>\n",
       "      <td>252262</td>\n",
       "      <td>79</td>\n",
       "      <td>0.711</td>\n",
       "      <td>0.005880</td>\n",
       "      <td>0.611</td>\n",
       "      <td>0.000000</td>\n",
       "      <td>...</td>\n",
       "      <td>-5.453</td>\n",
       "      <td>0.3300</td>\n",
       "      <td>134.093</td>\n",
       "      <td>4</td>\n",
       "      <td>79</td>\n",
       "      <td>1</td>\n",
       "      <td>79</td>\n",
       "      <td>1</td>\n",
       "      <td>NaN</td>\n",
       "      <td>NaN</td>\n",
       "    </tr>\n",
       "    <tr>\n",
       "      <th>312</th>\n",
       "      <td>Turn On The Lights again.. (feat. Future)</td>\n",
       "      <td>USB</td>\n",
       "      <td>Fred again..</td>\n",
       "      <td>2022-01-18</td>\n",
       "      <td>267946</td>\n",
       "      <td>69</td>\n",
       "      <td>0.683</td>\n",
       "      <td>0.012500</td>\n",
       "      <td>0.887</td>\n",
       "      <td>0.446000</td>\n",
       "      <td>...</td>\n",
       "      <td>-4.944</td>\n",
       "      <td>0.0497</td>\n",
       "      <td>132.007</td>\n",
       "      <td>4</td>\n",
       "      <td>69</td>\n",
       "      <td>1</td>\n",
       "      <td>69</td>\n",
       "      <td>1</td>\n",
       "      <td>NaN</td>\n",
       "      <td>NaN</td>\n",
       "    </tr>\n",
       "    <tr>\n",
       "      <th>...</th>\n",
       "      <td>...</td>\n",
       "      <td>...</td>\n",
       "      <td>...</td>\n",
       "      <td>...</td>\n",
       "      <td>...</td>\n",
       "      <td>...</td>\n",
       "      <td>...</td>\n",
       "      <td>...</td>\n",
       "      <td>...</td>\n",
       "      <td>...</td>\n",
       "      <td>...</td>\n",
       "      <td>...</td>\n",
       "      <td>...</td>\n",
       "      <td>...</td>\n",
       "      <td>...</td>\n",
       "      <td>...</td>\n",
       "      <td>...</td>\n",
       "      <td>...</td>\n",
       "      <td>...</td>\n",
       "      <td>...</td>\n",
       "      <td>...</td>\n",
       "    </tr>\n",
       "    <tr>\n",
       "      <th>4509</th>\n",
       "      <td>Waiting On The Sky To Change</td>\n",
       "      <td>Waiting On The Sky To Change</td>\n",
       "      <td>STARSET</td>\n",
       "      <td>2022-08-19</td>\n",
       "      <td>244135</td>\n",
       "      <td>68</td>\n",
       "      <td>0.369</td>\n",
       "      <td>0.000055</td>\n",
       "      <td>0.933</td>\n",
       "      <td>0.000000</td>\n",
       "      <td>...</td>\n",
       "      <td>-4.441</td>\n",
       "      <td>0.1170</td>\n",
       "      <td>168.059</td>\n",
       "      <td>4</td>\n",
       "      <td>68</td>\n",
       "      <td>1</td>\n",
       "      <td>68</td>\n",
       "      <td>1</td>\n",
       "      <td>NaN</td>\n",
       "      <td>NaN</td>\n",
       "    </tr>\n",
       "    <tr>\n",
       "      <th>4522</th>\n",
       "      <td>SKRR</td>\n",
       "      <td>MVP</td>\n",
       "      <td>KALIM</td>\n",
       "      <td>2020-09-24</td>\n",
       "      <td>119039</td>\n",
       "      <td>60</td>\n",
       "      <td>0.803</td>\n",
       "      <td>0.163000</td>\n",
       "      <td>0.649</td>\n",
       "      <td>0.000027</td>\n",
       "      <td>...</td>\n",
       "      <td>-6.599</td>\n",
       "      <td>0.1320</td>\n",
       "      <td>125.038</td>\n",
       "      <td>4</td>\n",
       "      <td>60</td>\n",
       "      <td>1</td>\n",
       "      <td>60</td>\n",
       "      <td>1</td>\n",
       "      <td>NaN</td>\n",
       "      <td>NaN</td>\n",
       "    </tr>\n",
       "    <tr>\n",
       "      <th>4524</th>\n",
       "      <td>Fendi Drip</td>\n",
       "      <td>MILLIES</td>\n",
       "      <td>Luciano</td>\n",
       "      <td>2019-08-29</td>\n",
       "      <td>220880</td>\n",
       "      <td>60</td>\n",
       "      <td>0.827</td>\n",
       "      <td>0.082700</td>\n",
       "      <td>0.646</td>\n",
       "      <td>0.000000</td>\n",
       "      <td>...</td>\n",
       "      <td>-6.122</td>\n",
       "      <td>0.5050</td>\n",
       "      <td>168.025</td>\n",
       "      <td>4</td>\n",
       "      <td>60</td>\n",
       "      <td>1</td>\n",
       "      <td>60</td>\n",
       "      <td>1</td>\n",
       "      <td>NaN</td>\n",
       "      <td>NaN</td>\n",
       "    </tr>\n",
       "    <tr>\n",
       "      <th>4525</th>\n",
       "      <td>Hier</td>\n",
       "      <td>Hier</td>\n",
       "      <td>Lucio101</td>\n",
       "      <td>2022-05-27</td>\n",
       "      <td>151500</td>\n",
       "      <td>59</td>\n",
       "      <td>0.729</td>\n",
       "      <td>0.151000</td>\n",
       "      <td>0.621</td>\n",
       "      <td>0.862000</td>\n",
       "      <td>...</td>\n",
       "      <td>-9.651</td>\n",
       "      <td>0.1090</td>\n",
       "      <td>76.459</td>\n",
       "      <td>4</td>\n",
       "      <td>59</td>\n",
       "      <td>1</td>\n",
       "      <td>59</td>\n",
       "      <td>1</td>\n",
       "      <td>NaN</td>\n",
       "      <td>NaN</td>\n",
       "    </tr>\n",
       "    <tr>\n",
       "      <th>4574</th>\n",
       "      <td>FEEL SOMETHING DIFFERENT</td>\n",
       "      <td>elated!</td>\n",
       "      <td>Bea Miller</td>\n",
       "      <td>2020-10-23</td>\n",
       "      <td>207327</td>\n",
       "      <td>60</td>\n",
       "      <td>0.780</td>\n",
       "      <td>0.125000</td>\n",
       "      <td>0.715</td>\n",
       "      <td>0.000009</td>\n",
       "      <td>...</td>\n",
       "      <td>-4.606</td>\n",
       "      <td>0.1020</td>\n",
       "      <td>125.015</td>\n",
       "      <td>4</td>\n",
       "      <td>60</td>\n",
       "      <td>1</td>\n",
       "      <td>60</td>\n",
       "      <td>1</td>\n",
       "      <td>NaN</td>\n",
       "      <td>NaN</td>\n",
       "    </tr>\n",
       "  </tbody>\n",
       "</table>\n",
       "<p>197 rows × 21 columns</p>\n",
       "</div>"
      ],
      "text/plain": [
       "                                           name                         album  \\\n",
       "28               For My Hand (feat. Ed Sheeran)                  Love, Damini   \n",
       "37          Lost in the Fire (feat. The Weeknd)                      Hyperion   \n",
       "221                                  THE SCOTTS                    THE SCOTTS   \n",
       "279           family ties (with Kendrick Lamar)              The Melodic Blue   \n",
       "312   Turn On The Lights again.. (feat. Future)                           USB   \n",
       "...                                         ...                           ...   \n",
       "4509               Waiting On The Sky To Change  Waiting On The Sky To Change   \n",
       "4522                                       SKRR                           MVP   \n",
       "4524                                 Fendi Drip                       MILLIES   \n",
       "4525                                       Hier                          Hier   \n",
       "4574                   FEEL SOMETHING DIFFERENT                       elated!   \n",
       "\n",
       "             artist release_date  length  popularity  danceability  \\\n",
       "28        Burna Boy   2022-07-07  159123          84         0.870   \n",
       "37    Gesaffelstein   2019-03-08  202093          85         0.658   \n",
       "221      THE SCOTTS   2020-04-24  165977          78         0.716   \n",
       "279       Baby Keem   2021-09-10  252262          79         0.711   \n",
       "312    Fred again..   2022-01-18  267946          69         0.683   \n",
       "...             ...          ...     ...         ...           ...   \n",
       "4509        STARSET   2022-08-19  244135          68         0.369   \n",
       "4522          KALIM   2020-09-24  119039          60         0.803   \n",
       "4524        Luciano   2019-08-29  220880          60         0.827   \n",
       "4525       Lucio101   2022-05-27  151500          59         0.729   \n",
       "4574     Bea Miller   2020-10-23  207327          60         0.780   \n",
       "\n",
       "      acousticness  energy  instrumentalness  ...  loudness  speechiness  \\\n",
       "28        0.161000   0.479          0.000157  ...    -7.779       0.1650   \n",
       "37        0.093300   0.671          0.000927  ...   -12.210       0.0363   \n",
       "221       0.233000   0.537          0.000000  ...    -7.648       0.0514   \n",
       "279       0.005880   0.611          0.000000  ...    -5.453       0.3300   \n",
       "312       0.012500   0.887          0.446000  ...    -4.944       0.0497   \n",
       "...            ...     ...               ...  ...       ...          ...   \n",
       "4509      0.000055   0.933          0.000000  ...    -4.441       0.1170   \n",
       "4522      0.163000   0.649          0.000027  ...    -6.599       0.1320   \n",
       "4524      0.082700   0.646          0.000000  ...    -6.122       0.5050   \n",
       "4525      0.151000   0.621          0.862000  ...    -9.651       0.1090   \n",
       "4574      0.125000   0.715          0.000009  ...    -4.606       0.1020   \n",
       "\n",
       "        tempo  time_signature  popularity_sum  popularity_count  \\\n",
       "28    104.059               4              84                 1   \n",
       "37    100.966               4              85                 1   \n",
       "221   129.979               4              78                 1   \n",
       "279   134.093               4              79                 1   \n",
       "312   132.007               4              69                 1   \n",
       "...       ...             ...             ...               ...   \n",
       "4509  168.059               4              68                 1   \n",
       "4522  125.038               4              60                 1   \n",
       "4524  168.025               4              60                 1   \n",
       "4525   76.459               4              59                 1   \n",
       "4574  125.015               4              60                 1   \n",
       "\n",
       "      popularity_sum_album  popularity_count_album  artist_avg_pop_other  \\\n",
       "28                      84                       1                   NaN   \n",
       "37                      85                       1                   NaN   \n",
       "221                     78                       1                   NaN   \n",
       "279                     79                       1                   NaN   \n",
       "312                     69                       1                   NaN   \n",
       "...                    ...                     ...                   ...   \n",
       "4509                    68                       1                   NaN   \n",
       "4522                    60                       1                   NaN   \n",
       "4524                    60                       1                   NaN   \n",
       "4525                    59                       1                   NaN   \n",
       "4574                    60                       1                   NaN   \n",
       "\n",
       "      album_avg_pop_other  \n",
       "28                    NaN  \n",
       "37                    NaN  \n",
       "221                   NaN  \n",
       "279                   NaN  \n",
       "312                   NaN  \n",
       "...                   ...  \n",
       "4509                  NaN  \n",
       "4522                  NaN  \n",
       "4524                  NaN  \n",
       "4525                  NaN  \n",
       "4574                  NaN  \n",
       "\n",
       "[197 rows x 21 columns]"
      ]
     },
     "execution_count": 15,
     "metadata": {},
     "output_type": "execute_result"
    }
   ],
   "source": [
    "joined2[joined2.artist_avg_pop_other.isna()]"
   ]
  },
  {
   "cell_type": "markdown",
   "metadata": {},
   "source": [
    "### Transform Dates"
   ]
  },
  {
   "cell_type": "code",
   "execution_count": 16,
   "metadata": {},
   "outputs": [],
   "source": [
    "joined2[\"release_date\"] = pd.to_datetime(joined2[\"release_date\"])"
   ]
  },
  {
   "cell_type": "code",
   "execution_count": 17,
   "metadata": {},
   "outputs": [
    {
     "name": "stderr",
     "output_type": "stream",
     "text": [
      "<ipython-input-17-dc12befdfa01>:1: FutureWarning: Treating datetime data as categorical rather than numeric in `.describe` is deprecated and will be removed in a future version of pandas. Specify `datetime_is_numeric=True` to silence this warning and adopt the future behavior now.\n",
      "  joined2[[\"release_date\"]].describe()\n"
     ]
    },
    {
     "data": {
      "text/html": [
       "<div>\n",
       "<style scoped>\n",
       "    .dataframe tbody tr th:only-of-type {\n",
       "        vertical-align: middle;\n",
       "    }\n",
       "\n",
       "    .dataframe tbody tr th {\n",
       "        vertical-align: top;\n",
       "    }\n",
       "\n",
       "    .dataframe thead th {\n",
       "        text-align: right;\n",
       "    }\n",
       "</style>\n",
       "<table border=\"1\" class=\"dataframe\">\n",
       "  <thead>\n",
       "    <tr style=\"text-align: right;\">\n",
       "      <th></th>\n",
       "      <th>release_date</th>\n",
       "    </tr>\n",
       "  </thead>\n",
       "  <tbody>\n",
       "    <tr>\n",
       "      <th>count</th>\n",
       "      <td>4576</td>\n",
       "    </tr>\n",
       "    <tr>\n",
       "      <th>unique</th>\n",
       "      <td>1504</td>\n",
       "    </tr>\n",
       "    <tr>\n",
       "      <th>top</th>\n",
       "      <td>2013-01-01 00:00:00</td>\n",
       "    </tr>\n",
       "    <tr>\n",
       "      <th>freq</th>\n",
       "      <td>38</td>\n",
       "    </tr>\n",
       "    <tr>\n",
       "      <th>first</th>\n",
       "      <td>1956-03-01 00:00:00</td>\n",
       "    </tr>\n",
       "    <tr>\n",
       "      <th>last</th>\n",
       "      <td>2022-10-14 00:00:00</td>\n",
       "    </tr>\n",
       "  </tbody>\n",
       "</table>\n",
       "</div>"
      ],
      "text/plain": [
       "               release_date\n",
       "count                  4576\n",
       "unique                 1504\n",
       "top     2013-01-01 00:00:00\n",
       "freq                     38\n",
       "first   1956-03-01 00:00:00\n",
       "last    2022-10-14 00:00:00"
      ]
     },
     "execution_count": 17,
     "metadata": {},
     "output_type": "execute_result"
    }
   ],
   "source": [
    "joined2[[\"release_date\"]].describe()"
   ]
  },
  {
   "cell_type": "code",
   "execution_count": 37,
   "metadata": {},
   "outputs": [
    {
     "data": {
      "text/plain": [
       "(Timestamp('2022-10-14 00:00:00'), Timestamp('1956-03-01 00:00:00'))"
      ]
     },
     "execution_count": 37,
     "metadata": {},
     "output_type": "execute_result"
    }
   ],
   "source": [
    "joined2[\"release_date\"].max(),joined2[\"release_date\"].min()"
   ]
  },
  {
   "cell_type": "code",
   "execution_count": 18,
   "metadata": {},
   "outputs": [],
   "source": [
    "joined2[\"days_since\"] = joined2[\"release_date\"].max() - joined2[\"release_date\"]"
   ]
  },
  {
   "cell_type": "code",
   "execution_count": 19,
   "metadata": {},
   "outputs": [
    {
     "data": {
      "text/html": [
       "<div>\n",
       "<style scoped>\n",
       "    .dataframe tbody tr th:only-of-type {\n",
       "        vertical-align: middle;\n",
       "    }\n",
       "\n",
       "    .dataframe tbody tr th {\n",
       "        vertical-align: top;\n",
       "    }\n",
       "\n",
       "    .dataframe thead th {\n",
       "        text-align: right;\n",
       "    }\n",
       "</style>\n",
       "<table border=\"1\" class=\"dataframe\">\n",
       "  <thead>\n",
       "    <tr style=\"text-align: right;\">\n",
       "      <th></th>\n",
       "      <th>days_since</th>\n",
       "    </tr>\n",
       "  </thead>\n",
       "  <tbody>\n",
       "    <tr>\n",
       "      <th>count</th>\n",
       "      <td>4576</td>\n",
       "    </tr>\n",
       "    <tr>\n",
       "      <th>mean</th>\n",
       "      <td>3658 days 03:42:28.951049024</td>\n",
       "    </tr>\n",
       "    <tr>\n",
       "      <th>std</th>\n",
       "      <td>4688 days 18:24:49.289123264</td>\n",
       "    </tr>\n",
       "    <tr>\n",
       "      <th>min</th>\n",
       "      <td>0 days 00:00:00</td>\n",
       "    </tr>\n",
       "    <tr>\n",
       "      <th>25%</th>\n",
       "      <td>553 days 00:00:00</td>\n",
       "    </tr>\n",
       "    <tr>\n",
       "      <th>50%</th>\n",
       "      <td>1767 days 00:00:00</td>\n",
       "    </tr>\n",
       "    <tr>\n",
       "      <th>75%</th>\n",
       "      <td>4669 days 00:00:00</td>\n",
       "    </tr>\n",
       "    <tr>\n",
       "      <th>max</th>\n",
       "      <td>24333 days 00:00:00</td>\n",
       "    </tr>\n",
       "  </tbody>\n",
       "</table>\n",
       "</div>"
      ],
      "text/plain": [
       "                         days_since\n",
       "count                          4576\n",
       "mean   3658 days 03:42:28.951049024\n",
       "std    4688 days 18:24:49.289123264\n",
       "min                 0 days 00:00:00\n",
       "25%               553 days 00:00:00\n",
       "50%              1767 days 00:00:00\n",
       "75%              4669 days 00:00:00\n",
       "max             24333 days 00:00:00"
      ]
     },
     "execution_count": 19,
     "metadata": {},
     "output_type": "execute_result"
    }
   ],
   "source": [
    "joined2[[\"days_since\"]].describe()"
   ]
  },
  {
   "cell_type": "markdown",
   "metadata": {},
   "source": [
    "### Pre Process for model\n",
    "1. Remove only 1 song artists\n",
    "2. Impute Artist Popularity"
   ]
  },
  {
   "cell_type": "code",
   "execution_count": 20,
   "metadata": {},
   "outputs": [
    {
     "data": {
      "text/plain": [
       "name                         0\n",
       "album                        0\n",
       "artist                       0\n",
       "release_date                 0\n",
       "length                       0\n",
       "popularity                   0\n",
       "danceability                 0\n",
       "acousticness                 0\n",
       "energy                       0\n",
       "instrumentalness             0\n",
       "liveness                     0\n",
       "loudness                     0\n",
       "speechiness                  0\n",
       "tempo                        0\n",
       "time_signature               0\n",
       "popularity_sum               0\n",
       "popularity_count             0\n",
       "popularity_sum_album         0\n",
       "popularity_count_album       0\n",
       "artist_avg_pop_other         0\n",
       "album_avg_pop_other       1804\n",
       "days_since                   0\n",
       "dtype: int64"
      ]
     },
     "execution_count": 20,
     "metadata": {},
     "output_type": "execute_result"
    }
   ],
   "source": [
    "mask_single_song_artist = joined2.artist_avg_pop_other.isna()\n",
    "df_model = joined2[~mask_single_song_artist]\n",
    "df_model.isna().sum()"
   ]
  },
  {
   "cell_type": "code",
   "execution_count": 21,
   "metadata": {},
   "outputs": [
    {
     "data": {
      "text/plain": [
       "(4379, 22)"
      ]
     },
     "execution_count": 21,
     "metadata": {},
     "output_type": "execute_result"
    }
   ],
   "source": [
    "df_model.shape"
   ]
  },
  {
   "cell_type": "code",
   "execution_count": 22,
   "metadata": {},
   "outputs": [
    {
     "name": "stderr",
     "output_type": "stream",
     "text": [
      "<ipython-input-22-f788fd6bd6fd>:1: SettingWithCopyWarning: \n",
      "A value is trying to be set on a copy of a slice from a DataFrame.\n",
      "Try using .loc[row_indexer,col_indexer] = value instead\n",
      "\n",
      "See the caveats in the documentation: https://pandas.pydata.org/pandas-docs/stable/user_guide/indexing.html#returning-a-view-versus-a-copy\n",
      "  df_model[\"days_since\"] = df_model[\"days_since\"].dt.days\n"
     ]
    }
   ],
   "source": [
    "df_model[\"days_since\"] = df_model[\"days_since\"].dt.days"
   ]
  },
  {
   "cell_type": "code",
   "execution_count": 23,
   "metadata": {},
   "outputs": [
    {
     "data": {
      "text/plain": [
       "<seaborn.axisgrid.JointGrid at 0x7f8f18844880>"
      ]
     },
     "execution_count": 23,
     "metadata": {},
     "output_type": "execute_result"
    },
    {
     "data": {
      "image/png": "[encoded data removed]",
      "text/plain": [
       "<Figure size 432x432 with 3 Axes>"
      ]
     },
     "metadata": {
      "needs_background": "light"
     },
     "output_type": "display_data"
    }
   ],
   "source": [
    "sns.jointplot(data=df_model, x=\"artist_avg_pop_other\", y=\"popularity\")"
   ]
  },
  {
   "cell_type": "code",
   "execution_count": 24,
   "metadata": {},
   "outputs": [
    {
     "data": {
      "text/plain": [
       "<seaborn.axisgrid.JointGrid at 0x7f8f17386550>"
      ]
     },
     "execution_count": 24,
     "metadata": {},
     "output_type": "execute_result"
    },
    {
     "data": {
      "image/png": "[encoded data removed]",
      "text/plain": [
       "<Figure size 432x432 with 3 Axes>"
      ]
     },
     "metadata": {
      "needs_background": "light"
     },
     "output_type": "display_data"
    }
   ],
   "source": [
    "sns.jointplot(data=df_model, x=\"album_avg_pop_other\", y=\"popularity\")"
   ]
  },
  {
   "cell_type": "code",
   "execution_count": 25,
   "metadata": {},
   "outputs": [
    {
     "name": "stderr",
     "output_type": "stream",
     "text": [
      "<ipython-input-25-61c47b3f99f2>:2: SettingWithCopyWarning: \n",
      "A value is trying to be set on a copy of a slice from a DataFrame.\n",
      "Try using .loc[row_indexer,col_indexer] = value instead\n",
      "\n",
      "See the caveats in the documentation: https://pandas.pydata.org/pandas-docs/stable/user_guide/indexing.html#returning-a-view-versus-a-copy\n",
      "  df_model[\"imputed_album_avg_pop_other\"] = mask_missing_album_popularity.astype(\"int\")\n"
     ]
    }
   ],
   "source": [
    "mask_missing_album_popularity = df_model[\"album_avg_pop_other\"].isna()\n",
    "df_model[\"imputed_album_avg_pop_other\"] = mask_missing_album_popularity.astype(\"int\")"
   ]
  },
  {
   "cell_type": "code",
   "execution_count": 26,
   "metadata": {},
   "outputs": [
    {
     "name": "stderr",
     "output_type": "stream",
     "text": [
      "<ipython-input-26-c6002eeb7d97>:1: SettingWithCopyWarning: \n",
      "A value is trying to be set on a copy of a slice from a DataFrame\n",
      "\n",
      "See the caveats in the documentation: https://pandas.pydata.org/pandas-docs/stable/user_guide/indexing.html#returning-a-view-versus-a-copy\n",
      "  df_model[\"album_avg_pop_other\"][mask_missing_album_popularity] = df_model[\"artist_avg_pop_other\"][mask_missing_album_popularity]\n",
      "/Users/ashish1610dhiman/opt/anaconda3/envs/spotify_app/lib/python3.8/site-packages/pandas/core/series.py:1020: SettingWithCopyWarning: \n",
      "A value is trying to be set on a copy of a slice from a DataFrame\n",
      "\n",
      "See the caveats in the documentation: https://pandas.pydata.org/pandas-docs/stable/user_guide/indexing.html#returning-a-view-versus-a-copy\n",
      "  self._where(~key, value, inplace=True)\n"
     ]
    }
   ],
   "source": [
    "df_model[\"album_avg_pop_other\"][mask_missing_album_popularity] = df_model[\"artist_avg_pop_other\"][mask_missing_album_popularity]"
   ]
  },
  {
   "cell_type": "code",
   "execution_count": 27,
   "metadata": {},
   "outputs": [
    {
     "data": {
      "text/plain": [
       "<seaborn.axisgrid.JointGrid at 0x7f8f1e6e7a30>"
      ]
     },
     "execution_count": 27,
     "metadata": {},
     "output_type": "execute_result"
    },
    {
     "data": {
      "image/png": "[encoded data removed]",
      "text/plain": [
       "<Figure size 432x432 with 3 Axes>"
      ]
     },
     "metadata": {
      "needs_background": "light"
     },
     "output_type": "display_data"
    }
   ],
   "source": [
    "sns.jointplot(data=df_model, x=\"album_avg_pop_other\", y=\"popularity\", hue=\"imputed_album_avg_pop_other\")"
   ]
  },
  {
   "cell_type": "code",
   "execution_count": 28,
   "metadata": {},
   "outputs": [
    {
     "data": {
      "text/plain": [
       "['length',\n",
       " 'popularity',\n",
       " 'danceability',\n",
       " 'acousticness',\n",
       " 'energy',\n",
       " 'instrumentalness',\n",
       " 'liveness',\n",
       " 'loudness',\n",
       " 'speechiness',\n",
       " 'tempo',\n",
       " 'time_signature',\n",
       " 'popularity_sum',\n",
       " 'popularity_count',\n",
       " 'popularity_sum_album',\n",
       " 'popularity_count_album',\n",
       " 'artist_avg_pop_other',\n",
       " 'album_avg_pop_other',\n",
       " 'days_since',\n",
       " 'imputed_album_avg_pop_other']"
      ]
     },
     "execution_count": 28,
     "metadata": {},
     "output_type": "execute_result"
    }
   ],
   "source": [
    "numeric_cols = list(df_model.select_dtypes(include=np.number).columns)\n",
    "numeric_cols"
   ]
  },
  {
   "cell_type": "markdown",
   "metadata": {},
   "source": [
    "### Regression Model"
   ]
  },
  {
   "cell_type": "code",
   "execution_count": 29,
   "metadata": {},
   "outputs": [],
   "source": [
    "X_cols = numeric_cols[0:1]+numeric_cols[2:]\n",
    "Y_cols = numeric_cols[1]"
   ]
  },
  {
   "cell_type": "code",
   "execution_count": 33,
   "metadata": {},
   "outputs": [],
   "source": [
    "### Subset X and Y\n",
    "X = df_model[X_cols]\n",
    "y = df_model[Y_cols]\n",
    "\n",
    "### Scale the data\n",
    "# scaler = MinMaxScaler()\n",
    "# X_scaled[X_cols] = scaler.fit_transform(X)"
   ]
  },
  {
   "cell_type": "code",
   "execution_count": 35,
   "metadata": {},
   "outputs": [
    {
     "data": {
      "text/plain": [
       "0.581076060168243"
      ]
     },
     "execution_count": 35,
     "metadata": {},
     "output_type": "execute_result"
    }
   ],
   "source": [
    "X = sm.add_constant(X)\n",
    "model = sm.OLS(y, X)\n",
    "results = model.fit()\n",
    "results.rsquared"
   ]
  },
  {
   "cell_type": "code",
   "execution_count": 36,
   "metadata": {},
   "outputs": [
    {
     "data": {
      "text/html": [
       "<div>\n",
       "<style scoped>\n",
       "    .dataframe tbody tr th:only-of-type {\n",
       "        vertical-align: middle;\n",
       "    }\n",
       "\n",
       "    .dataframe tbody tr th {\n",
       "        vertical-align: top;\n",
       "    }\n",
       "\n",
       "    .dataframe thead th {\n",
       "        text-align: right;\n",
       "    }\n",
       "</style>\n",
       "<table border=\"1\" class=\"dataframe\">\n",
       "  <thead>\n",
       "    <tr style=\"text-align: right;\">\n",
       "      <th></th>\n",
       "      <th>const</th>\n",
       "      <th>length</th>\n",
       "      <th>danceability</th>\n",
       "      <th>acousticness</th>\n",
       "      <th>energy</th>\n",
       "      <th>instrumentalness</th>\n",
       "      <th>liveness</th>\n",
       "      <th>loudness</th>\n",
       "      <th>speechiness</th>\n",
       "      <th>tempo</th>\n",
       "      <th>time_signature</th>\n",
       "      <th>popularity_sum</th>\n",
       "      <th>popularity_count</th>\n",
       "      <th>popularity_sum_album</th>\n",
       "      <th>popularity_count_album</th>\n",
       "      <th>artist_avg_pop_other</th>\n",
       "      <th>album_avg_pop_other</th>\n",
       "      <th>days_since</th>\n",
       "      <th>imputed_album_avg_pop_other</th>\n",
       "    </tr>\n",
       "  </thead>\n",
       "  <tbody>\n",
       "    <tr>\n",
       "      <th>0</th>\n",
       "      <td>1.0</td>\n",
       "      <td>218364</td>\n",
       "      <td>0.529</td>\n",
       "      <td>0.000307</td>\n",
       "      <td>0.673</td>\n",
       "      <td>0.000002</td>\n",
       "      <td>0.0930</td>\n",
       "      <td>-4.711</td>\n",
       "      <td>0.1750</td>\n",
       "      <td>165.921</td>\n",
       "      <td>4</td>\n",
       "      <td>1214</td>\n",
       "      <td>15</td>\n",
       "      <td>91</td>\n",
       "      <td>1</td>\n",
       "      <td>80.214286</td>\n",
       "      <td>80.214286</td>\n",
       "      <td>119</td>\n",
       "      <td>1</td>\n",
       "    </tr>\n",
       "    <tr>\n",
       "      <th>1</th>\n",
       "      <td>1.0</td>\n",
       "      <td>189893</td>\n",
       "      <td>0.463</td>\n",
       "      <td>0.314000</td>\n",
       "      <td>0.642</td>\n",
       "      <td>0.000000</td>\n",
       "      <td>0.0686</td>\n",
       "      <td>-4.474</td>\n",
       "      <td>0.3400</td>\n",
       "      <td>83.389</td>\n",
       "      <td>4</td>\n",
       "      <td>554</td>\n",
       "      <td>7</td>\n",
       "      <td>246</td>\n",
       "      <td>3</td>\n",
       "      <td>77.333333</td>\n",
       "      <td>78.000000</td>\n",
       "      <td>168</td>\n",
       "      <td>0</td>\n",
       "    </tr>\n",
       "    <tr>\n",
       "      <th>2</th>\n",
       "      <td>1.0</td>\n",
       "      <td>173986</td>\n",
       "      <td>0.792</td>\n",
       "      <td>0.007760</td>\n",
       "      <td>0.625</td>\n",
       "      <td>0.001800</td>\n",
       "      <td>0.3290</td>\n",
       "      <td>-5.609</td>\n",
       "      <td>0.0536</td>\n",
       "      <td>103.967</td>\n",
       "      <td>4</td>\n",
       "      <td>1214</td>\n",
       "      <td>15</td>\n",
       "      <td>86</td>\n",
       "      <td>1</td>\n",
       "      <td>80.571429</td>\n",
       "      <td>80.571429</td>\n",
       "      <td>2352</td>\n",
       "      <td>1</td>\n",
       "    </tr>\n",
       "    <tr>\n",
       "      <th>3</th>\n",
       "      <td>1.0</td>\n",
       "      <td>242965</td>\n",
       "      <td>0.849</td>\n",
       "      <td>0.063500</td>\n",
       "      <td>0.424</td>\n",
       "      <td>0.000000</td>\n",
       "      <td>0.0834</td>\n",
       "      <td>-9.579</td>\n",
       "      <td>0.3240</td>\n",
       "      <td>145.887</td>\n",
       "      <td>4</td>\n",
       "      <td>1214</td>\n",
       "      <td>15</td>\n",
       "      <td>541</td>\n",
       "      <td>7</td>\n",
       "      <td>80.642857</td>\n",
       "      <td>76.000000</td>\n",
       "      <td>406</td>\n",
       "      <td>0</td>\n",
       "    </tr>\n",
       "    <tr>\n",
       "      <th>4</th>\n",
       "      <td>1.0</td>\n",
       "      <td>198973</td>\n",
       "      <td>0.754</td>\n",
       "      <td>0.033200</td>\n",
       "      <td>0.449</td>\n",
       "      <td>0.000083</td>\n",
       "      <td>0.5520</td>\n",
       "      <td>-9.211</td>\n",
       "      <td>0.1090</td>\n",
       "      <td>77.169</td>\n",
       "      <td>4</td>\n",
       "      <td>1214</td>\n",
       "      <td>15</td>\n",
       "      <td>85</td>\n",
       "      <td>1</td>\n",
       "      <td>80.642857</td>\n",
       "      <td>80.642857</td>\n",
       "      <td>1568</td>\n",
       "      <td>1</td>\n",
       "    </tr>\n",
       "    <tr>\n",
       "      <th>...</th>\n",
       "      <td>...</td>\n",
       "      <td>...</td>\n",
       "      <td>...</td>\n",
       "      <td>...</td>\n",
       "      <td>...</td>\n",
       "      <td>...</td>\n",
       "      <td>...</td>\n",
       "      <td>...</td>\n",
       "      <td>...</td>\n",
       "      <td>...</td>\n",
       "      <td>...</td>\n",
       "      <td>...</td>\n",
       "      <td>...</td>\n",
       "      <td>...</td>\n",
       "      <td>...</td>\n",
       "      <td>...</td>\n",
       "      <td>...</td>\n",
       "      <td>...</td>\n",
       "      <td>...</td>\n",
       "    </tr>\n",
       "    <tr>\n",
       "      <th>4570</th>\n",
       "      <td>1.0</td>\n",
       "      <td>220160</td>\n",
       "      <td>0.765</td>\n",
       "      <td>0.423000</td>\n",
       "      <td>0.500</td>\n",
       "      <td>0.000000</td>\n",
       "      <td>0.1080</td>\n",
       "      <td>-7.626</td>\n",
       "      <td>0.1520</td>\n",
       "      <td>107.043</td>\n",
       "      <td>4</td>\n",
       "      <td>530</td>\n",
       "      <td>8</td>\n",
       "      <td>203</td>\n",
       "      <td>3</td>\n",
       "      <td>66.714286</td>\n",
       "      <td>70.000000</td>\n",
       "      <td>1904</td>\n",
       "      <td>0</td>\n",
       "    </tr>\n",
       "    <tr>\n",
       "      <th>4571</th>\n",
       "      <td>1.0</td>\n",
       "      <td>143152</td>\n",
       "      <td>0.784</td>\n",
       "      <td>0.159000</td>\n",
       "      <td>0.586</td>\n",
       "      <td>0.000000</td>\n",
       "      <td>0.1830</td>\n",
       "      <td>-5.148</td>\n",
       "      <td>0.0570</td>\n",
       "      <td>113.973</td>\n",
       "      <td>4</td>\n",
       "      <td>530</td>\n",
       "      <td>8</td>\n",
       "      <td>122</td>\n",
       "      <td>2</td>\n",
       "      <td>66.857143</td>\n",
       "      <td>60.000000</td>\n",
       "      <td>798</td>\n",
       "      <td>0</td>\n",
       "    </tr>\n",
       "    <tr>\n",
       "      <th>4572</th>\n",
       "      <td>1.0</td>\n",
       "      <td>196386</td>\n",
       "      <td>0.724</td>\n",
       "      <td>0.141000</td>\n",
       "      <td>0.600</td>\n",
       "      <td>0.000218</td>\n",
       "      <td>0.1040</td>\n",
       "      <td>-4.391</td>\n",
       "      <td>0.2900</td>\n",
       "      <td>86.984</td>\n",
       "      <td>4</td>\n",
       "      <td>2481</td>\n",
       "      <td>37</td>\n",
       "      <td>132</td>\n",
       "      <td>2</td>\n",
       "      <td>67.222222</td>\n",
       "      <td>71.000000</td>\n",
       "      <td>1400</td>\n",
       "      <td>0</td>\n",
       "    </tr>\n",
       "    <tr>\n",
       "      <th>4573</th>\n",
       "      <td>1.0</td>\n",
       "      <td>197855</td>\n",
       "      <td>0.868</td>\n",
       "      <td>0.292000</td>\n",
       "      <td>0.616</td>\n",
       "      <td>0.000000</td>\n",
       "      <td>0.2530</td>\n",
       "      <td>-5.405</td>\n",
       "      <td>0.1700</td>\n",
       "      <td>98.017</td>\n",
       "      <td>4</td>\n",
       "      <td>530</td>\n",
       "      <td>8</td>\n",
       "      <td>122</td>\n",
       "      <td>2</td>\n",
       "      <td>67.142857</td>\n",
       "      <td>62.000000</td>\n",
       "      <td>798</td>\n",
       "      <td>0</td>\n",
       "    </tr>\n",
       "    <tr>\n",
       "      <th>4575</th>\n",
       "      <td>1.0</td>\n",
       "      <td>101744</td>\n",
       "      <td>0.833</td>\n",
       "      <td>0.047200</td>\n",
       "      <td>0.610</td>\n",
       "      <td>0.000010</td>\n",
       "      <td>0.3190</td>\n",
       "      <td>-7.556</td>\n",
       "      <td>0.3020</td>\n",
       "      <td>147.945</td>\n",
       "      <td>4</td>\n",
       "      <td>530</td>\n",
       "      <td>8</td>\n",
       "      <td>128</td>\n",
       "      <td>2</td>\n",
       "      <td>67.142857</td>\n",
       "      <td>68.000000</td>\n",
       "      <td>343</td>\n",
       "      <td>0</td>\n",
       "    </tr>\n",
       "  </tbody>\n",
       "</table>\n",
       "<p>4379 rows × 19 columns</p>\n",
       "</div>"
      ],
      "text/plain": [
       "      const  length  danceability  acousticness  energy  instrumentalness  \\\n",
       "0       1.0  218364         0.529      0.000307   0.673          0.000002   \n",
       "1       1.0  189893         0.463      0.314000   0.642          0.000000   \n",
       "2       1.0  173986         0.792      0.007760   0.625          0.001800   \n",
       "3       1.0  242965         0.849      0.063500   0.424          0.000000   \n",
       "4       1.0  198973         0.754      0.033200   0.449          0.000083   \n",
       "...     ...     ...           ...           ...     ...               ...   \n",
       "4570    1.0  220160         0.765      0.423000   0.500          0.000000   \n",
       "4571    1.0  143152         0.784      0.159000   0.586          0.000000   \n",
       "4572    1.0  196386         0.724      0.141000   0.600          0.000218   \n",
       "4573    1.0  197855         0.868      0.292000   0.616          0.000000   \n",
       "4575    1.0  101744         0.833      0.047200   0.610          0.000010   \n",
       "\n",
       "      liveness  loudness  speechiness    tempo  time_signature  \\\n",
       "0       0.0930    -4.711       0.1750  165.921               4   \n",
       "1       0.0686    -4.474       0.3400   83.389               4   \n",
       "2       0.3290    -5.609       0.0536  103.967               4   \n",
       "3       0.0834    -9.579       0.3240  145.887               4   \n",
       "4       0.5520    -9.211       0.1090   77.169               4   \n",
       "...        ...       ...          ...      ...             ...   \n",
       "4570    0.1080    -7.626       0.1520  107.043               4   \n",
       "4571    0.1830    -5.148       0.0570  113.973               4   \n",
       "4572    0.1040    -4.391       0.2900   86.984               4   \n",
       "4573    0.2530    -5.405       0.1700   98.017               4   \n",
       "4575    0.3190    -7.556       0.3020  147.945               4   \n",
       "\n",
       "      popularity_sum  popularity_count  popularity_sum_album  \\\n",
       "0               1214                15                    91   \n",
       "1                554                 7                   246   \n",
       "2               1214                15                    86   \n",
       "3               1214                15                   541   \n",
       "4               1214                15                    85   \n",
       "...              ...               ...                   ...   \n",
       "4570             530                 8                   203   \n",
       "4571             530                 8                   122   \n",
       "4572            2481                37                   132   \n",
       "4573             530                 8                   122   \n",
       "4575             530                 8                   128   \n",
       "\n",
       "      popularity_count_album  artist_avg_pop_other  album_avg_pop_other  \\\n",
       "0                          1             80.214286            80.214286   \n",
       "1                          3             77.333333            78.000000   \n",
       "2                          1             80.571429            80.571429   \n",
       "3                          7             80.642857            76.000000   \n",
       "4                          1             80.642857            80.642857   \n",
       "...                      ...                   ...                  ...   \n",
       "4570                       3             66.714286            70.000000   \n",
       "4571                       2             66.857143            60.000000   \n",
       "4572                       2             67.222222            71.000000   \n",
       "4573                       2             67.142857            62.000000   \n",
       "4575                       2             67.142857            68.000000   \n",
       "\n",
       "      days_since  imputed_album_avg_pop_other  \n",
       "0            119                            1  \n",
       "1            168                            0  \n",
       "2           2352                            1  \n",
       "3            406                            0  \n",
       "4           1568                            1  \n",
       "...          ...                          ...  \n",
       "4570        1904                            0  \n",
       "4571         798                            0  \n",
       "4572        1400                            0  \n",
       "4573         798                            0  \n",
       "4575         343                            0  \n",
       "\n",
       "[4379 rows x 19 columns]"
      ]
     },
     "execution_count": 36,
     "metadata": {},
     "output_type": "execute_result"
    }
   ],
   "source": [
    "X"
   ]
  },
  {
   "cell_type": "code",
   "execution_count": 78,
   "metadata": {},
   "outputs": [],
   "source": [
    "def _get_r_sq(X,y):\n",
    "    model = sm.OLS(y, X)\n",
    "    results = model.fit()\n",
    "    return (results.rsquared)\n",
    "\n",
    "def get_left_right(X,y,threshold):\n",
    "    mask_left = X[\"days_since\"] <= threshold\n",
    "    X_left = X.loc[mask_left]\n",
    "    y_left = y.loc[mask_left]\n",
    "    X_right = X.loc[~mask_left]\n",
    "    y_right = y.loc[~mask_left]\n",
    "    return (_get_r_sq(X_left,y_left),_get_r_sq(X_right,y_right),sum(mask_left))"
   ]
  },
  {
   "cell_type": "code",
   "execution_count": 123,
   "metadata": {},
   "outputs": [],
   "source": [
    "X1 = X[list(X.columns[:11]) + [\"days_since\"]]"
   ]
  },
  {
   "cell_type": "code",
   "execution_count": 124,
   "metadata": {},
   "outputs": [],
   "source": [
    "result_dict = {\n",
    "    threshold:get_left_right(X1,y,threshold)\\\n",
    "    for threshold in np.linspace(30,1000,200).astype(int)\n",
    "}"
   ]
  },
  {
   "cell_type": "code",
   "execution_count": 125,
   "metadata": {},
   "outputs": [],
   "source": [
    "result_df = pd.DataFrame.from_dict(result_dict,orient=\"index\")\n",
    "result_df.columns = [\"r_sq(days since<=threshold)\",\"r_sq(days since > threshold)\",\"count_days_since_lt_threshold\"]"
   ]
  },
  {
   "cell_type": "code",
   "execution_count": 126,
   "metadata": {},
   "outputs": [
    {
     "data": {
      "text/plain": [
       "<matplotlib.legend.Legend at 0x7f8f21d7daf0>"
      ]
     },
     "execution_count": 126,
     "metadata": {},
     "output_type": "execute_result"
    },
    {
     "data": {
      "image/png": "[encoded data removed]",
      "text/plain": [
       "<Figure size 576x396 with 2 Axes>"
      ]
     },
     "metadata": {},
     "output_type": "display_data"
    }
   ],
   "source": [
    "result_df[[\"r_sq(days since<=threshold)\",\"r_sq(days since > threshold)\"]].plot()\n",
    "ax2 = plt.twinx()\n",
    "sns.lineplot(data=result_df[\"count_days_since_lt_threshold\"], color=\"r\",\\\n",
    "             label=\"count_days_since_lt_threshold\", ax=ax2)\n",
    "plt.title(\"R-squared(left) & count(right) vs threshold\")\n",
    "plt.legend()"
   ]
  },
  {
   "cell_type": "code",
   "execution_count": 127,
   "metadata": {},
   "outputs": [
    {
     "data": {
      "text/plain": [
       "<matplotlib.legend.Legend at 0x7f8f224f4730>"
      ]
     },
     "execution_count": 127,
     "metadata": {},
     "output_type": "execute_result"
    },
    {
     "data": {
      "image/png": "[encoded data removed]",
      "text/plain": [
       "<Figure size 576x396 with 2 Axes>"
      ]
     },
     "metadata": {},
     "output_type": "display_data"
    }
   ],
   "source": [
    "result_dict1 = {\n",
    "    threshold:get_left_right(X1,y,threshold)\\\n",
    "    for threshold in np.linspace(30,1000,200).astype(int)\n",
    "}\n",
    "\n",
    "result_df1 = pd.DataFrame.from_dict(result_dict,orient=\"index\")\n",
    "result_df1.columns = [\"r_sq(days since<=threshold)\",\"r_sq(days since > threshold)\",\"count_days_since_lt_threshold\"]\n",
    "\n",
    "result_df1[[\"r_sq(days since<=threshold)\",\"r_sq(days since > threshold)\"]].plot()\n",
    "ax2 = plt.twinx()\n",
    "sns.lineplot(data=result_df1[\"count_days_since_lt_threshold\"], color=\"r\",\\\n",
    "             label=\"count_days_since_lt_threshold\", ax=ax2)\n",
    "plt.title(\"R-squared(left) & count(right) vs threshold\")\n",
    "plt.legend()"
   ]
  }
 ],
 "metadata": {
  "kernelspec": {
   "display_name": "Python 3",
   "language": "python",
   "name": "python3"
  },
  "language_info": {
   "codemirror_mode": {
    "name": "ipython",
    "version": 3
   },
   "file_extension": ".py",
   "mimetype": "text/x-python",
   "name": "python",
   "nbconvert_exporter": "python",
   "pygments_lexer": "ipython3",
   "version": "3.8.6"
  }
 },
 "nbformat": 4,
 "nbformat_minor": 4
}
