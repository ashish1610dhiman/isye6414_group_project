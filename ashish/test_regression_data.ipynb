{
 "cells": [
  {
   "cell_type": "code",
   "execution_count": 1,
   "metadata": {},
   "outputs": [],
   "source": [
    "from spotipy.oauth2 import SpotifyClientCredentials\n",
    "import spotipy\n",
    "from pprint import pprint"
   ]
  },
  {
   "cell_type": "code",
   "execution_count": 2,
   "metadata": {},
   "outputs": [],
   "source": [
    "client_credentials_manager = SpotifyClientCredentials(client_id=\"2484350daae248779b1230842ee2c217\",\\\n",
    "                                                      client_secret=\"84a9f644eee1444d8b11b2ed85342dd7\")\n",
    "sp = spotipy.Spotify(client_credentials_manager=client_credentials_manager)"
   ]
  },
  {
   "cell_type": "markdown",
   "metadata": {},
   "source": [
    "https://newsroom.spotify.com/2021-12-01/what-the-world-streamed-most-in-2021/"
   ]
  },
  {
   "cell_type": "code",
   "execution_count": 3,
   "metadata": {},
   "outputs": [],
   "source": [
    "top_5_artists = [\"Bad Bunny\", \"Taylor Swift\" \"BTS\",\"Drake\", \"Justin Bieber\"]"
   ]
  },
  {
   "cell_type": "code",
   "execution_count": 4,
   "metadata": {},
   "outputs": [],
   "source": [
    "search_result={}\n",
    "for search_str in top_5_artists:\n",
    "    search_result[search_str] = sp.search(search_str,type=\"artist\",limit=1)\n",
    "    #pprint(result)"
   ]
  },
  {
   "cell_type": "code",
   "execution_count": 5,
   "metadata": {},
   "outputs": [
    {
     "data": {
      "text/plain": [
       "dict_keys(['artists'])"
      ]
     },
     "execution_count": 5,
     "metadata": {},
     "output_type": "execute_result"
    }
   ],
   "source": [
    "search_result[search_str].keys()"
   ]
  },
  {
   "cell_type": "code",
   "execution_count": 6,
   "metadata": {},
   "outputs": [
    {
     "data": {
      "text/plain": [
       "'1uNFoZAHBGtllmzznpCI3s'"
      ]
     },
     "execution_count": 6,
     "metadata": {},
     "output_type": "execute_result"
    }
   ],
   "source": [
    "search_result[search_str][\"artists\"][\"items\"][0][\"id\"]"
   ]
  },
  {
   "cell_type": "code",
   "execution_count": 7,
   "metadata": {},
   "outputs": [],
   "source": [
    "get_artist_id = lambda x: x[\"artists\"][\"items\"][0][\"id\"]"
   ]
  },
  {
   "cell_type": "code",
   "execution_count": 9,
   "metadata": {},
   "outputs": [],
   "source": [
    "top_ten_tracks_artist = sp.artist_top_tracks(\"1uNFoZAHBGtllmzznpCI3s\")[\"tracks\"]"
   ]
  },
  {
   "cell_type": "code",
   "execution_count": 10,
   "metadata": {},
   "outputs": [
    {
     "data": {
      "text/plain": [
       "'5PjdY0CKGZdEuoNab3yDmX'"
      ]
     },
     "execution_count": 10,
     "metadata": {},
     "output_type": "execute_result"
    }
   ],
   "source": [
    "top_ten_tracks_artist[0][\"id\"]"
   ]
  },
  {
   "cell_type": "code",
   "execution_count": 11,
   "metadata": {},
   "outputs": [],
   "source": [
    "get_track_id = lambda x: x[\"id\"]"
   ]
  },
  {
   "cell_type": "code",
   "execution_count": 13,
   "metadata": {},
   "outputs": [],
   "source": [
    "from util_funcs import *"
   ]
  },
  {
   "cell_type": "code",
   "execution_count": 16,
   "metadata": {},
   "outputs": [],
   "source": [
    "import pandas as pd"
   ]
  },
  {
   "cell_type": "code",
   "execution_count": 23,
   "metadata": {},
   "outputs": [
    {
     "data": {
      "text/html": [
       "<div>\n",
       "<style scoped>\n",
       "    .dataframe tbody tr th:only-of-type {\n",
       "        vertical-align: middle;\n",
       "    }\n",
       "\n",
       "    .dataframe tbody tr th {\n",
       "        vertical-align: top;\n",
       "    }\n",
       "\n",
       "    .dataframe thead th {\n",
       "        text-align: right;\n",
       "    }\n",
       "</style>\n",
       "<table border=\"1\" class=\"dataframe\">\n",
       "  <thead>\n",
       "    <tr style=\"text-align: right;\">\n",
       "      <th></th>\n",
       "      <th>name</th>\n",
       "      <th>album</th>\n",
       "      <th>artist</th>\n",
       "      <th>release_date</th>\n",
       "      <th>length</th>\n",
       "      <th>popularity</th>\n",
       "      <th>danceability</th>\n",
       "      <th>acousticness</th>\n",
       "      <th>energy</th>\n",
       "      <th>instrumentalness</th>\n",
       "      <th>liveness</th>\n",
       "      <th>loudness</th>\n",
       "      <th>speechiness</th>\n",
       "      <th>tempo</th>\n",
       "      <th>time_signature</th>\n",
       "    </tr>\n",
       "  </thead>\n",
       "  <tbody>\n",
       "    <tr>\n",
       "      <th>0</th>\n",
       "      <td>STAY (with Justin Bieber)</td>\n",
       "      <td>F*CK LOVE 3: OVER YOU</td>\n",
       "      <td>The Kid LAROI</td>\n",
       "      <td>2021-07-23</td>\n",
       "      <td>141805</td>\n",
       "      <td>87</td>\n",
       "      <td>0.591</td>\n",
       "      <td>0.0383</td>\n",
       "      <td>0.764</td>\n",
       "      <td>0</td>\n",
       "      <td>0.103</td>\n",
       "      <td>-5.484</td>\n",
       "      <td>0.0483</td>\n",
       "      <td>169.928</td>\n",
       "      <td>4</td>\n",
       "    </tr>\n",
       "  </tbody>\n",
       "</table>\n",
       "</div>"
      ],
      "text/plain": [
       "                        name                  album         artist  \\\n",
       "0  STAY (with Justin Bieber)  F*CK LOVE 3: OVER YOU  The Kid LAROI   \n",
       "\n",
       "  release_date  length popularity danceability acousticness energy  \\\n",
       "0   2021-07-23  141805         87        0.591       0.0383  0.764   \n",
       "\n",
       "  instrumentalness liveness loudness speechiness    tempo time_signature  \n",
       "0                0    0.103   -5.484      0.0483  169.928              4  "
      ]
     },
     "execution_count": 23,
     "metadata": {},
     "output_type": "execute_result"
    }
   ],
   "source": [
    "pd.DataFrame.from_dict(getTrackFeatures('5PjdY0CKGZdEuoNab3yDmX',sp),orient=\"index\").T"
   ]
  },
  {
   "cell_type": "markdown",
   "metadata": {},
   "source": [
    "### Dummy Pull for 5 artists"
   ]
  },
  {
   "cell_type": "code",
   "execution_count": 43,
   "metadata": {},
   "outputs": [],
   "source": [
    "top_artists = [\"Bad Bunny\", \"Taylor Swift\", \"BTS\",\"Drake\", \"Justin Bieber\",\\\n",
    "              \"Mohit Chauhan\", \"Amit Trivedi\", \"Shubh\", \"AP Dhillon\"]"
   ]
  },
  {
   "cell_type": "code",
   "execution_count": 44,
   "metadata": {},
   "outputs": [],
   "source": [
    "result = pd.DataFrame()"
   ]
  },
  {
   "cell_type": "code",
   "execution_count": 45,
   "metadata": {},
   "outputs": [
    {
     "name": "stdout",
     "output_type": "stream",
     "text": [
      "Searching for Bad Bunny\n",
      "Searching for Taylor Swift\n",
      "Searching for BTS\n",
      "Searching for Drake\n",
      "Searching for Justin Bieber\n",
      "Searching for Mohit Chauhan\n",
      "Searching for Amit Trivedi\n",
      "Searching for Shubh\n",
      "Searching for AP Dhillon\n"
     ]
    }
   ],
   "source": [
    "for search_str in top_artists:\n",
    "    print (f\"Searching for {search_str}\")\n",
    "    try:\n",
    "        artist_search = sp.search(search_str,type=\"artist\",limit=1)\n",
    "        artist_id = get_artist_id(artist_search)\n",
    "    except:\n",
    "        print (\"-- Error --\")\n",
    "        continue\n",
    "    top_ten_tracks_artist = sp.artist_top_tracks(artist_id)[\"tracks\"]\n",
    "    for track in top_ten_tracks_artist:\n",
    "        track_id = get_track_id(track)\n",
    "        df_row_track = pd.DataFrame.from_dict(getTrackFeatures(track_id,sp),orient=\"index\").T\n",
    "        result=result.append(df_row_track)"
   ]
  },
  {
   "cell_type": "code",
   "execution_count": 46,
   "metadata": {},
   "outputs": [
    {
     "data": {
      "text/plain": [
       "(85, 15)"
      ]
     },
     "execution_count": 46,
     "metadata": {},
     "output_type": "execute_result"
    }
   ],
   "source": [
    "result.shape"
   ]
  },
  {
   "cell_type": "code",
   "execution_count": 48,
   "metadata": {},
   "outputs": [],
   "source": [
    "result.to_csv(\"dummy_data.csv\")"
   ]
  }
 ],
 "metadata": {
  "kernelspec": {
   "display_name": "Python 3",
   "language": "python",
   "name": "python3"
  },
  "language_info": {
   "codemirror_mode": {
    "name": "ipython",
    "version": 3
   },
   "file_extension": ".py",
   "mimetype": "text/x-python",
   "name": "python",
   "nbconvert_exporter": "python",
   "pygments_lexer": "ipython3",
   "version": "3.8.6"
  }
 },
 "nbformat": 4,
 "nbformat_minor": 4
}
