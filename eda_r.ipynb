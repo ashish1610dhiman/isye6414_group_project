{
 "cells": [
  {
   "cell_type": "code",
   "execution_count": null,
   "metadata": {
    "vscode": {
     "languageId": "r"
    }
   },
   "outputs": [],
   "source": []
  },
  {
   "cell_type": "code",
   "execution_count": 1,
   "metadata": {
    "vscode": {
     "languageId": "r"
    }
   },
   "outputs": [
    {
     "data": {
      "text/html": [
       "<table class=\"dataframe\">\n",
       "<caption>A data.frame: 3 × 15</caption>\n",
       "<thead>\n",
       "\t<tr><th></th><th scope=col>name</th><th scope=col>album</th><th scope=col>artist</th><th scope=col>release_date</th><th scope=col>length</th><th scope=col>popularity</th><th scope=col>danceability</th><th scope=col>acousticness</th><th scope=col>energy</th><th scope=col>instrumentalness</th><th scope=col>liveness</th><th scope=col>loudness</th><th scope=col>speechiness</th><th scope=col>tempo</th><th scope=col>time_signature</th></tr>\n",
       "\t<tr><th></th><th scope=col>&lt;chr&gt;</th><th scope=col>&lt;chr&gt;</th><th scope=col>&lt;chr&gt;</th><th scope=col>&lt;chr&gt;</th><th scope=col>&lt;int&gt;</th><th scope=col>&lt;int&gt;</th><th scope=col>&lt;dbl&gt;</th><th scope=col>&lt;dbl&gt;</th><th scope=col>&lt;dbl&gt;</th><th scope=col>&lt;dbl&gt;</th><th scope=col>&lt;dbl&gt;</th><th scope=col>&lt;dbl&gt;</th><th scope=col>&lt;dbl&gt;</th><th scope=col>&lt;dbl&gt;</th><th scope=col>&lt;int&gt;</th></tr>\n",
       "</thead>\n",
       "<tbody>\n",
       "\t<tr><th scope=row>1</th><td>Jimmy Cooks (feat. 21 Savage)  </td><td>Honestly, Nevermind</td><td>Drake </td><td>2022-06-17</td><td>218364</td><td>91</td><td>0.529</td><td>0.000307</td><td>0.673</td><td>2.41e-06</td><td>0.0930</td><td>-4.711</td><td>0.1750</td><td>165.921</td><td>4</td></tr>\n",
       "\t<tr><th scope=row>2</th><td>WAIT FOR U (feat. Drake &amp; Tems)</td><td><span style=white-space:pre-wrap>I NEVER LIKED YOU  </span></td><td>Future</td><td>2022-04-29</td><td>189893</td><td>90</td><td>0.463</td><td>0.314000</td><td>0.642</td><td>0.00e+00</td><td>0.0686</td><td>-4.474</td><td>0.3400</td><td> 83.389</td><td>4</td></tr>\n",
       "\t<tr><th scope=row>3</th><td>One Dance                      </td><td>Views              </td><td>Drake </td><td>2016-05-06</td><td>173986</td><td>86</td><td>0.792</td><td>0.007760</td><td>0.625</td><td>1.80e-03</td><td>0.3290</td><td>-5.609</td><td>0.0536</td><td>103.967</td><td>4</td></tr>\n",
       "</tbody>\n",
       "</table>\n"
      ],
      "text/latex": [
       "A data.frame: 3 × 15\n",
       "\\begin{tabular}{r|lllllllllllllll}\n",
       "  & name & album & artist & release\\_date & length & popularity & danceability & acousticness & energy & instrumentalness & liveness & loudness & speechiness & tempo & time\\_signature\\\\\n",
       "  & <chr> & <chr> & <chr> & <chr> & <int> & <int> & <dbl> & <dbl> & <dbl> & <dbl> & <dbl> & <dbl> & <dbl> & <dbl> & <int>\\\\\n",
       "\\hline\n",
       "\t1 & Jimmy Cooks (feat. 21 Savage)   & Honestly, Nevermind & Drake  & 2022-06-17 & 218364 & 91 & 0.529 & 0.000307 & 0.673 & 2.41e-06 & 0.0930 & -4.711 & 0.1750 & 165.921 & 4\\\\\n",
       "\t2 & WAIT FOR U (feat. Drake \\& Tems) & I NEVER LIKED YOU   & Future & 2022-04-29 & 189893 & 90 & 0.463 & 0.314000 & 0.642 & 0.00e+00 & 0.0686 & -4.474 & 0.3400 &  83.389 & 4\\\\\n",
       "\t3 & One Dance                       & Views               & Drake  & 2016-05-06 & 173986 & 86 & 0.792 & 0.007760 & 0.625 & 1.80e-03 & 0.3290 & -5.609 & 0.0536 & 103.967 & 4\\\\\n",
       "\\end{tabular}\n"
      ],
      "text/markdown": [
       "\n",
       "A data.frame: 3 × 15\n",
       "\n",
       "| <!--/--> | name &lt;chr&gt; | album &lt;chr&gt; | artist &lt;chr&gt; | release_date &lt;chr&gt; | length &lt;int&gt; | popularity &lt;int&gt; | danceability &lt;dbl&gt; | acousticness &lt;dbl&gt; | energy &lt;dbl&gt; | instrumentalness &lt;dbl&gt; | liveness &lt;dbl&gt; | loudness &lt;dbl&gt; | speechiness &lt;dbl&gt; | tempo &lt;dbl&gt; | time_signature &lt;int&gt; |\n",
       "|---|---|---|---|---|---|---|---|---|---|---|---|---|---|---|---|\n",
       "| 1 | Jimmy Cooks (feat. 21 Savage)   | Honestly, Nevermind | Drake  | 2022-06-17 | 218364 | 91 | 0.529 | 0.000307 | 0.673 | 2.41e-06 | 0.0930 | -4.711 | 0.1750 | 165.921 | 4 |\n",
       "| 2 | WAIT FOR U (feat. Drake &amp; Tems) | I NEVER LIKED YOU   | Future | 2022-04-29 | 189893 | 90 | 0.463 | 0.314000 | 0.642 | 0.00e+00 | 0.0686 | -4.474 | 0.3400 |  83.389 | 4 |\n",
       "| 3 | One Dance                       | Views               | Drake  | 2016-05-06 | 173986 | 86 | 0.792 | 0.007760 | 0.625 | 1.80e-03 | 0.3290 | -5.609 | 0.0536 | 103.967 | 4 |\n",
       "\n"
      ],
      "text/plain": [
       "  name                            album               artist release_date\n",
       "1 Jimmy Cooks (feat. 21 Savage)   Honestly, Nevermind Drake  2022-06-17  \n",
       "2 WAIT FOR U (feat. Drake & Tems) I NEVER LIKED YOU   Future 2022-04-29  \n",
       "3 One Dance                       Views               Drake  2016-05-06  \n",
       "  length popularity danceability acousticness energy instrumentalness liveness\n",
       "1 218364 91         0.529        0.000307     0.673  2.41e-06         0.0930  \n",
       "2 189893 90         0.463        0.314000     0.642  0.00e+00         0.0686  \n",
       "3 173986 86         0.792        0.007760     0.625  1.80e-03         0.3290  \n",
       "  loudness speechiness tempo   time_signature\n",
       "1 -4.711   0.1750      165.921 4             \n",
       "2 -4.474   0.3400       83.389 4             \n",
       "3 -5.609   0.0536      103.967 4             "
      ]
     },
     "metadata": {},
     "output_type": "display_data"
    }
   ],
   "source": [
    "data = read.csv(\"top_500_artists_deduplicate.csv\")\n",
    "head(data, 3)"
   ]
  },
  {
   "cell_type": "code",
   "execution_count": 2,
   "metadata": {
    "vscode": {
     "languageId": "r"
    }
   },
   "outputs": [],
   "source": [
    "# Select only numerical columns from data\n",
    "data_num = data[, sapply(data, is.numeric)]"
   ]
  },
  {
   "cell_type": "code",
   "execution_count": 3,
   "metadata": {
    "vscode": {
     "languageId": "r"
    }
   },
   "outputs": [
    {
     "data": {
      "text/plain": [
       "\n",
       "Call:\n",
       "lm(formula = popularity ~ ., data = data_num)\n",
       "\n",
       "Residuals:\n",
       "    Min      1Q  Median      3Q     Max \n",
       "-57.073  -4.855   0.213   5.279  27.646 \n",
       "\n",
       "Coefficients:\n",
       "                   Estimate Std. Error t value Pr(>|t|)    \n",
       "(Intercept)       7.691e+01  2.118e+00  36.309  < 2e-16 ***\n",
       "length           -1.686e-06  2.223e-06  -0.758   0.4482    \n",
       "danceability      3.736e+00  8.798e-01   4.247 2.21e-05 ***\n",
       "acousticness     -1.173e+00  6.036e-01  -1.943   0.0521 .  \n",
       "energy           -5.812e+00  1.065e+00  -5.457 5.11e-08 ***\n",
       "instrumentalness -1.866e+00  1.182e+00  -1.578   0.1145    \n",
       "liveness         -2.264e+00  7.926e-01  -2.857   0.0043 ** \n",
       "loudness          4.460e-01  6.186e-02   7.210 6.50e-13 ***\n",
       "speechiness      -1.822e+00  1.207e+00  -1.510   0.1312    \n",
       "tempo             9.132e-03  4.269e-03   2.139   0.0325 *  \n",
       "time_signature   -2.541e-01  4.031e-01  -0.630   0.5285    \n",
       "---\n",
       "Signif. codes:  0 ‘***’ 0.001 ‘**’ 0.01 ‘*’ 0.05 ‘.’ 0.1 ‘ ’ 1\n",
       "\n",
       "Residual standard error: 8.081 on 4565 degrees of freedom\n",
       "Multiple R-squared:  0.03069,\tAdjusted R-squared:  0.02856 \n",
       "F-statistic: 14.45 on 10 and 4565 DF,  p-value: < 2.2e-16\n"
      ]
     },
     "metadata": {},
     "output_type": "display_data"
    }
   ],
   "source": [
    "# Fit a simple linear regression model\n",
    "model = lm(popularity ~., data = data_num)\n",
    "summary(model)"
   ]
  },
  {
   "cell_type": "code",
   "execution_count": null,
   "metadata": {
    "vscode": {
     "languageId": "r"
    }
   },
   "outputs": [],
   "source": []
  },
  {
   "cell_type": "code",
   "execution_count": 17,
   "metadata": {
    "vscode": {
     "languageId": "r"
    }
   },
   "outputs": [
    {
     "data": {
      "text/html": [
       "<table class=\"dataframe\">\n",
       "<caption>A data.frame: 3 × 20</caption>\n",
       "<thead>\n",
       "\t<tr><th></th><th scope=col>name</th><th scope=col>album</th><th scope=col>artist</th><th scope=col>release_date</th><th scope=col>length</th><th scope=col>popularity</th><th scope=col>danceability</th><th scope=col>acousticness</th><th scope=col>energy</th><th scope=col>instrumentalness</th><th scope=col>liveness</th><th scope=col>loudness</th><th scope=col>speechiness</th><th scope=col>tempo</th><th scope=col>time_signature</th><th scope=col>centralized_popularity</th><th scope=col>pop_level</th><th scope=col>days_since_release</th><th scope=col>centralized_pop_level</th><th scope=col>mean_other_song_popularity</th></tr>\n",
       "\t<tr><th></th><th scope=col>&lt;chr&gt;</th><th scope=col>&lt;chr&gt;</th><th scope=col>&lt;chr&gt;</th><th scope=col>&lt;chr&gt;</th><th scope=col>&lt;int&gt;</th><th scope=col>&lt;int&gt;</th><th scope=col>&lt;dbl&gt;</th><th scope=col>&lt;dbl&gt;</th><th scope=col>&lt;dbl&gt;</th><th scope=col>&lt;dbl&gt;</th><th scope=col>&lt;dbl&gt;</th><th scope=col>&lt;dbl&gt;</th><th scope=col>&lt;dbl&gt;</th><th scope=col>&lt;dbl&gt;</th><th scope=col>&lt;int&gt;</th><th scope=col>&lt;dbl&gt;</th><th scope=col>&lt;chr&gt;</th><th scope=col>&lt;int&gt;</th><th scope=col>&lt;chr&gt;</th><th scope=col>&lt;dbl&gt;</th></tr>\n",
       "</thead>\n",
       "<tbody>\n",
       "\t<tr><th scope=row>1</th><td>Jimmy Cooks (feat. 21 Savage)  </td><td>Honestly, Nevermind</td><td>Drake </td><td>2022-06-17</td><td>218364</td><td>91</td><td>0.529</td><td>0.000307</td><td>0.673</td><td>2.41e-06</td><td>0.0930</td><td>-4.711</td><td>0.1750</td><td>165.921</td><td>4</td><td>9.05</td><td>high</td><td> 137</td><td>high</td><td>81.47368</td></tr>\n",
       "\t<tr><th scope=row>2</th><td>WAIT FOR U (feat. Drake &amp; Tems)</td><td><span style=white-space:pre-wrap>I NEVER LIKED YOU  </span></td><td>Future</td><td>2022-04-29</td><td>189893</td><td>90</td><td>0.463</td><td>0.314000</td><td>0.642</td><td>0.00e+00</td><td>0.0686</td><td>-4.474</td><td>0.3400</td><td> 83.389</td><td>4</td><td>9.50</td><td>high</td><td> 186</td><td>high</td><td>79.14286</td></tr>\n",
       "\t<tr><th scope=row>3</th><td>One Dance                      </td><td>Views              </td><td>Drake </td><td>2016-05-06</td><td>173986</td><td>86</td><td>0.792</td><td>0.007760</td><td>0.625</td><td>1.80e-03</td><td>0.3290</td><td>-5.609</td><td>0.0536</td><td>103.967</td><td>4</td><td>4.05</td><td>high</td><td>2370</td><td>high</td><td>81.73684</td></tr>\n",
       "</tbody>\n",
       "</table>\n"
      ],
      "text/latex": [
       "A data.frame: 3 × 20\n",
       "\\begin{tabular}{r|llllllllllllllllllll}\n",
       "  & name & album & artist & release\\_date & length & popularity & danceability & acousticness & energy & instrumentalness & liveness & loudness & speechiness & tempo & time\\_signature & centralized\\_popularity & pop\\_level & days\\_since\\_release & centralized\\_pop\\_level & mean\\_other\\_song\\_popularity\\\\\n",
       "  & <chr> & <chr> & <chr> & <chr> & <int> & <int> & <dbl> & <dbl> & <dbl> & <dbl> & <dbl> & <dbl> & <dbl> & <dbl> & <int> & <dbl> & <chr> & <int> & <chr> & <dbl>\\\\\n",
       "\\hline\n",
       "\t1 & Jimmy Cooks (feat. 21 Savage)   & Honestly, Nevermind & Drake  & 2022-06-17 & 218364 & 91 & 0.529 & 0.000307 & 0.673 & 2.41e-06 & 0.0930 & -4.711 & 0.1750 & 165.921 & 4 & 9.05 & high &  137 & high & 81.47368\\\\\n",
       "\t2 & WAIT FOR U (feat. Drake \\& Tems) & I NEVER LIKED YOU   & Future & 2022-04-29 & 189893 & 90 & 0.463 & 0.314000 & 0.642 & 0.00e+00 & 0.0686 & -4.474 & 0.3400 &  83.389 & 4 & 9.50 & high &  186 & high & 79.14286\\\\\n",
       "\t3 & One Dance                       & Views               & Drake  & 2016-05-06 & 173986 & 86 & 0.792 & 0.007760 & 0.625 & 1.80e-03 & 0.3290 & -5.609 & 0.0536 & 103.967 & 4 & 4.05 & high & 2370 & high & 81.73684\\\\\n",
       "\\end{tabular}\n"
      ],
      "text/markdown": [
       "\n",
       "A data.frame: 3 × 20\n",
       "\n",
       "| <!--/--> | name &lt;chr&gt; | album &lt;chr&gt; | artist &lt;chr&gt; | release_date &lt;chr&gt; | length &lt;int&gt; | popularity &lt;int&gt; | danceability &lt;dbl&gt; | acousticness &lt;dbl&gt; | energy &lt;dbl&gt; | instrumentalness &lt;dbl&gt; | liveness &lt;dbl&gt; | loudness &lt;dbl&gt; | speechiness &lt;dbl&gt; | tempo &lt;dbl&gt; | time_signature &lt;int&gt; | centralized_popularity &lt;dbl&gt; | pop_level &lt;chr&gt; | days_since_release &lt;int&gt; | centralized_pop_level &lt;chr&gt; | mean_other_song_popularity &lt;dbl&gt; |\n",
       "|---|---|---|---|---|---|---|---|---|---|---|---|---|---|---|---|---|---|---|---|---|\n",
       "| 1 | Jimmy Cooks (feat. 21 Savage)   | Honestly, Nevermind | Drake  | 2022-06-17 | 218364 | 91 | 0.529 | 0.000307 | 0.673 | 2.41e-06 | 0.0930 | -4.711 | 0.1750 | 165.921 | 4 | 9.05 | high |  137 | high | 81.47368 |\n",
       "| 2 | WAIT FOR U (feat. Drake &amp; Tems) | I NEVER LIKED YOU   | Future | 2022-04-29 | 189893 | 90 | 0.463 | 0.314000 | 0.642 | 0.00e+00 | 0.0686 | -4.474 | 0.3400 |  83.389 | 4 | 9.50 | high |  186 | high | 79.14286 |\n",
       "| 3 | One Dance                       | Views               | Drake  | 2016-05-06 | 173986 | 86 | 0.792 | 0.007760 | 0.625 | 1.80e-03 | 0.3290 | -5.609 | 0.0536 | 103.967 | 4 | 4.05 | high | 2370 | high | 81.73684 |\n",
       "\n"
      ],
      "text/plain": [
       "  name                            album               artist release_date\n",
       "1 Jimmy Cooks (feat. 21 Savage)   Honestly, Nevermind Drake  2022-06-17  \n",
       "2 WAIT FOR U (feat. Drake & Tems) I NEVER LIKED YOU   Future 2022-04-29  \n",
       "3 One Dance                       Views               Drake  2016-05-06  \n",
       "  length popularity danceability acousticness energy instrumentalness liveness\n",
       "1 218364 91         0.529        0.000307     0.673  2.41e-06         0.0930  \n",
       "2 189893 90         0.463        0.314000     0.642  0.00e+00         0.0686  \n",
       "3 173986 86         0.792        0.007760     0.625  1.80e-03         0.3290  \n",
       "  loudness speechiness tempo   time_signature centralized_popularity pop_level\n",
       "1 -4.711   0.1750      165.921 4              9.05                   high     \n",
       "2 -4.474   0.3400       83.389 4              9.50                   high     \n",
       "3 -5.609   0.0536      103.967 4              4.05                   high     \n",
       "  days_since_release centralized_pop_level mean_other_song_popularity\n",
       "1  137               high                  81.47368                  \n",
       "2  186               high                  79.14286                  \n",
       "3 2370               high                  81.73684                  "
      ]
     },
     "metadata": {},
     "output_type": "display_data"
    }
   ],
   "source": [
    "data2 = read.csv(\"features_top_500_artists.csv\")\n",
    "head(data2,3)"
   ]
  },
  {
   "cell_type": "code",
   "execution_count": 23,
   "metadata": {
    "vscode": {
     "languageId": "r"
    }
   },
   "outputs": [
    {
     "data": {
      "text/plain": [
       "\n",
       "Call:\n",
       "lm(formula = popularity ~ ., data = data2_num)\n",
       "\n",
       "Residuals:\n",
       "    Min      1Q  Median      3Q     Max \n",
       "-46.764  -3.719  -0.006   3.703  27.541 \n",
       "\n",
       "Coefficients:\n",
       "                             Estimate Std. Error t value Pr(>|t|)    \n",
       "(Intercept)                 1.173e+01  1.925e+00   6.092  1.2e-09 ***\n",
       "length                     -2.700e-06  1.708e-06  -1.581  0.11401    \n",
       "danceability                1.853e+00  6.611e-01   2.804  0.00507 ** \n",
       "acousticness                1.435e-01  4.528e-01   0.317  0.75136    \n",
       "energy                     -1.271e+00  8.146e-01  -1.561  0.11869    \n",
       "instrumentalness           -3.961e-01  9.146e-01  -0.433  0.66498    \n",
       "liveness                   -9.804e-01  5.956e-01  -1.646  0.09982 .  \n",
       "loudness                    1.604e-01  5.000e-02   3.208  0.00135 ** \n",
       "speechiness                -1.728e+00  9.179e-01  -1.882  0.05984 .  \n",
       "tempo                       2.913e-03  3.152e-03   0.924  0.35541    \n",
       "time_signature             -4.668e-01  2.912e-01  -1.603  0.10897    \n",
       "days_since_release          7.271e-05  2.244e-05   3.240  0.00121 ** \n",
       "mean_other_song_popularity  8.759e-01  1.476e-02  59.333  < 2e-16 ***\n",
       "---\n",
       "Signif. codes:  0 ‘***’ 0.001 ‘**’ 0.01 ‘*’ 0.05 ‘.’ 0.1 ‘ ’ 1\n",
       "\n",
       "Residual standard error: 6.134 on 4806 degrees of freedom\n",
       "  (181 observations deleted due to missingness)\n",
       "Multiple R-squared:  0.4425,\tAdjusted R-squared:  0.4411 \n",
       "F-statistic: 317.8 on 12 and 4806 DF,  p-value: < 2.2e-16\n"
      ]
     },
     "metadata": {},
     "output_type": "display_data"
    }
   ],
   "source": [
    "# Select only numerical columns from data2\n",
    "data2_num = data2[, sapply(data2, is.numeric)]\n",
    "data2_num = subset(data2_num, select = -c(centralized_popularity))\n",
    "# Fit a linear regression model\n",
    "model2 = lm(popularity ~., data = data2_num)\n",
    "summary(model2)"
   ]
  },
  {
   "cell_type": "code",
   "execution_count": null,
   "metadata": {
    "vscode": {
     "languageId": "r"
    }
   },
   "outputs": [],
   "source": []
  },
  {
   "cell_type": "code",
   "execution_count": 42,
   "metadata": {
    "vscode": {
     "languageId": "r"
    }
   },
   "outputs": [
    {
     "data": {
      "text/html": [
       "<table class=\"dataframe\">\n",
       "<caption>A data.frame: 3 × 20</caption>\n",
       "<thead>\n",
       "\t<tr><th></th><th scope=col>name</th><th scope=col>album</th><th scope=col>artist</th><th scope=col>release_date</th><th scope=col>length</th><th scope=col>popularity</th><th scope=col>danceability</th><th scope=col>acousticness</th><th scope=col>energy</th><th scope=col>instrumentalness</th><th scope=col>liveness</th><th scope=col>loudness</th><th scope=col>speechiness</th><th scope=col>tempo</th><th scope=col>time_signature</th><th scope=col>centralized_popularity</th><th scope=col>pop_level</th><th scope=col>days_since_release</th><th scope=col>centralized_pop_level</th><th scope=col>mean_other_song_popularity</th></tr>\n",
       "\t<tr><th></th><th scope=col>&lt;chr&gt;</th><th scope=col>&lt;chr&gt;</th><th scope=col>&lt;chr&gt;</th><th scope=col>&lt;chr&gt;</th><th scope=col>&lt;int&gt;</th><th scope=col>&lt;int&gt;</th><th scope=col>&lt;dbl&gt;</th><th scope=col>&lt;dbl&gt;</th><th scope=col>&lt;dbl&gt;</th><th scope=col>&lt;dbl&gt;</th><th scope=col>&lt;dbl&gt;</th><th scope=col>&lt;dbl&gt;</th><th scope=col>&lt;dbl&gt;</th><th scope=col>&lt;dbl&gt;</th><th scope=col>&lt;int&gt;</th><th scope=col>&lt;dbl&gt;</th><th scope=col>&lt;chr&gt;</th><th scope=col>&lt;int&gt;</th><th scope=col>&lt;chr&gt;</th><th scope=col>&lt;dbl&gt;</th></tr>\n",
       "</thead>\n",
       "<tbody>\n",
       "\t<tr><th scope=row>1</th><td>Celestial                              </td><td>Celestial</td><td>Ed Sheeran      </td><td>2022-09-29</td><td>209026</td><td>85</td><td>0.574</td><td>0.0529</td><td>0.852</td><td>0.00e+00</td><td>0.1610</td><td>-1.248</td><td>0.0397</td><td>123.038</td><td>4</td><td> 8.214286</td><td>high  </td><td>33</td><td>high</td><td>76.15385</td></tr>\n",
       "\t<tr><th scope=row>2</th><td>Left and Right (Feat. Jung Kook of BTS)</td><td>CHARLIE  </td><td>Charlie Puth    </td><td>2022-10-06</td><td>154486</td><td>73</td><td>0.881</td><td>0.6190</td><td>0.592</td><td>1.32e-05</td><td>0.0901</td><td>-4.898</td><td>0.0324</td><td>101.058</td><td>4</td><td> 4.363636</td><td>medium</td><td>26</td><td>high</td><td>68.20000</td></tr>\n",
       "\t<tr><th scope=row>3</th><td>KAWAII                                 </td><td>KAWAII   </td><td>Polimá Westcoast</td><td>2022-09-21</td><td>198247</td><td>77</td><td>0.906</td><td>0.1520</td><td>0.807</td><td>4.39e-05</td><td>0.1090</td><td>-3.963</td><td>0.0904</td><td> 97.009</td><td>4</td><td>-5.000000</td><td>high  </td><td>41</td><td>low </td><td>87.00000</td></tr>\n",
       "</tbody>\n",
       "</table>\n"
      ],
      "text/latex": [
       "A data.frame: 3 × 20\n",
       "\\begin{tabular}{r|llllllllllllllllllll}\n",
       "  & name & album & artist & release\\_date & length & popularity & danceability & acousticness & energy & instrumentalness & liveness & loudness & speechiness & tempo & time\\_signature & centralized\\_popularity & pop\\_level & days\\_since\\_release & centralized\\_pop\\_level & mean\\_other\\_song\\_popularity\\\\\n",
       "  & <chr> & <chr> & <chr> & <chr> & <int> & <int> & <dbl> & <dbl> & <dbl> & <dbl> & <dbl> & <dbl> & <dbl> & <dbl> & <int> & <dbl> & <chr> & <int> & <chr> & <dbl>\\\\\n",
       "\\hline\n",
       "\t1 & Celestial                               & Celestial & Ed Sheeran       & 2022-09-29 & 209026 & 85 & 0.574 & 0.0529 & 0.852 & 0.00e+00 & 0.1610 & -1.248 & 0.0397 & 123.038 & 4 &  8.214286 & high   & 33 & high & 76.15385\\\\\n",
       "\t2 & Left and Right (Feat. Jung Kook of BTS) & CHARLIE   & Charlie Puth     & 2022-10-06 & 154486 & 73 & 0.881 & 0.6190 & 0.592 & 1.32e-05 & 0.0901 & -4.898 & 0.0324 & 101.058 & 4 &  4.363636 & medium & 26 & high & 68.20000\\\\\n",
       "\t3 & KAWAII                                  & KAWAII    & Polimá Westcoast & 2022-09-21 & 198247 & 77 & 0.906 & 0.1520 & 0.807 & 4.39e-05 & 0.1090 & -3.963 & 0.0904 &  97.009 & 4 & -5.000000 & high   & 41 & low  & 87.00000\\\\\n",
       "\\end{tabular}\n"
      ],
      "text/markdown": [
       "\n",
       "A data.frame: 3 × 20\n",
       "\n",
       "| <!--/--> | name &lt;chr&gt; | album &lt;chr&gt; | artist &lt;chr&gt; | release_date &lt;chr&gt; | length &lt;int&gt; | popularity &lt;int&gt; | danceability &lt;dbl&gt; | acousticness &lt;dbl&gt; | energy &lt;dbl&gt; | instrumentalness &lt;dbl&gt; | liveness &lt;dbl&gt; | loudness &lt;dbl&gt; | speechiness &lt;dbl&gt; | tempo &lt;dbl&gt; | time_signature &lt;int&gt; | centralized_popularity &lt;dbl&gt; | pop_level &lt;chr&gt; | days_since_release &lt;int&gt; | centralized_pop_level &lt;chr&gt; | mean_other_song_popularity &lt;dbl&gt; |\n",
       "|---|---|---|---|---|---|---|---|---|---|---|---|---|---|---|---|---|---|---|---|---|\n",
       "| 1 | Celestial                               | Celestial | Ed Sheeran       | 2022-09-29 | 209026 | 85 | 0.574 | 0.0529 | 0.852 | 0.00e+00 | 0.1610 | -1.248 | 0.0397 | 123.038 | 4 |  8.214286 | high   | 33 | high | 76.15385 |\n",
       "| 2 | Left and Right (Feat. Jung Kook of BTS) | CHARLIE   | Charlie Puth     | 2022-10-06 | 154486 | 73 | 0.881 | 0.6190 | 0.592 | 1.32e-05 | 0.0901 | -4.898 | 0.0324 | 101.058 | 4 |  4.363636 | medium | 26 | high | 68.20000 |\n",
       "| 3 | KAWAII                                  | KAWAII    | Polimá Westcoast | 2022-09-21 | 198247 | 77 | 0.906 | 0.1520 | 0.807 | 4.39e-05 | 0.1090 | -3.963 | 0.0904 |  97.009 | 4 | -5.000000 | high   | 41 | low  | 87.00000 |\n",
       "\n"
      ],
      "text/plain": [
       "  name                                    album     artist          \n",
       "1 Celestial                               Celestial Ed Sheeran      \n",
       "2 Left and Right (Feat. Jung Kook of BTS) CHARLIE   Charlie Puth    \n",
       "3 KAWAII                                  KAWAII    Polimá Westcoast\n",
       "  release_date length popularity danceability acousticness energy\n",
       "1 2022-09-29   209026 85         0.574        0.0529       0.852 \n",
       "2 2022-10-06   154486 73         0.881        0.6190       0.592 \n",
       "3 2022-09-21   198247 77         0.906        0.1520       0.807 \n",
       "  instrumentalness liveness loudness speechiness tempo   time_signature\n",
       "1 0.00e+00         0.1610   -1.248   0.0397      123.038 4             \n",
       "2 1.32e-05         0.0901   -4.898   0.0324      101.058 4             \n",
       "3 4.39e-05         0.1090   -3.963   0.0904       97.009 4             \n",
       "  centralized_popularity pop_level days_since_release centralized_pop_level\n",
       "1  8.214286              high      33                 high                 \n",
       "2  4.363636              medium    26                 high                 \n",
       "3 -5.000000              high      41                 low                  \n",
       "  mean_other_song_popularity\n",
       "1 76.15385                  \n",
       "2 68.20000                  \n",
       "3 87.00000                  "
      ]
     },
     "metadata": {},
     "output_type": "display_data"
    },
    {
     "data": {
      "text/html": [
       "<style>\n",
       ".list-inline {list-style: none; margin:0; padding: 0}\n",
       ".list-inline>li {display: inline-block}\n",
       ".list-inline>li:not(:last-child)::after {content: \"\\00b7\"; padding: 0 .5ex}\n",
       "</style>\n",
       "<ol class=list-inline><li>243</li><li>20</li></ol>\n"
      ],
      "text/latex": [
       "\\begin{enumerate*}\n",
       "\\item 243\n",
       "\\item 20\n",
       "\\end{enumerate*}\n"
      ],
      "text/markdown": [
       "1. 243\n",
       "2. 20\n",
       "\n",
       "\n"
      ],
      "text/plain": [
       "[1] 243  20"
      ]
     },
     "metadata": {},
     "output_type": "display_data"
    }
   ],
   "source": [
    "data3 = read.csv(\"data3.csv\")\n",
    "head(data3,3)\n",
    "dim(data3)"
   ]
  },
  {
   "cell_type": "code",
   "execution_count": 43,
   "metadata": {
    "vscode": {
     "languageId": "r"
    }
   },
   "outputs": [
    {
     "data": {
      "text/plain": [
       "\n",
       "Call:\n",
       "lm(formula = popularity ~ ., data = data3_num)\n",
       "\n",
       "Residuals:\n",
       "     Min       1Q   Median       3Q      Max \n",
       "-25.1630  -3.6097   0.1297   3.8494  18.9289 \n",
       "\n",
       "Coefficients:\n",
       "                             Estimate Std. Error t value Pr(>|t|)    \n",
       "(Intercept)                -1.577e+01  1.213e+01  -1.300   0.1952    \n",
       "length                     -1.425e-05  1.246e-05  -1.143   0.2543    \n",
       "danceability                6.220e+00  4.211e+00   1.477   0.1411    \n",
       "acousticness               -5.401e+00  2.412e+00  -2.239   0.0262 *  \n",
       "energy                     -5.436e+00  4.648e+00  -1.170   0.2435    \n",
       "instrumentalness            1.631e+01  6.797e+00   2.400   0.0173 *  \n",
       "liveness                    1.711e+00  3.026e+00   0.565   0.5725    \n",
       "loudness                    1.861e-01  3.081e-01   0.604   0.5466    \n",
       "speechiness                 6.216e+00  3.912e+00   1.589   0.1135    \n",
       "tempo                      -2.403e-02  1.625e-02  -1.479   0.1406    \n",
       "time_signature              1.635e+00  1.643e+00   0.995   0.3207    \n",
       "days_since_release          1.003e-01  3.676e-02   2.728   0.0069 ** \n",
       "mean_other_song_popularity  1.137e+00  9.371e-02  12.133   <2e-16 ***\n",
       "---\n",
       "Signif. codes:  0 ‘***’ 0.001 ‘**’ 0.01 ‘*’ 0.05 ‘.’ 0.1 ‘ ’ 1\n",
       "\n",
       "Residual standard error: 6.726 on 214 degrees of freedom\n",
       "  (16 observations deleted due to missingness)\n",
       "Multiple R-squared:  0.5928,\tAdjusted R-squared:   0.57 \n",
       "F-statistic: 25.97 on 12 and 214 DF,  p-value: < 2.2e-16\n"
      ]
     },
     "metadata": {},
     "output_type": "display_data"
    }
   ],
   "source": [
    "# Select only numerical columns from data2\n",
    "data3_num = data3[, sapply(data3, is.numeric)]\n",
    "data3_num = subset(data3_num, select = -c(centralized_popularity))\n",
    "# Fit a linear regression model\n",
    "model3 = lm(popularity ~., data = data3_num)\n",
    "summary(model3)"
   ]
  },
  {
   "cell_type": "code",
   "execution_count": null,
   "metadata": {
    "vscode": {
     "languageId": "r"
    }
   },
   "outputs": [],
   "source": []
  }
 ],
 "metadata": {
  "kernelspec": {
   "display_name": "R",
   "language": "R",
   "name": "ir"
  },
  "language_info": {
   "codemirror_mode": "r",
   "file_extension": ".r",
   "mimetype": "text/x-r-source",
   "name": "R",
   "pygments_lexer": "r",
   "version": "4.2.1"
  },
  "orig_nbformat": 4
 },
 "nbformat": 4,
 "nbformat_minor": 2
}
