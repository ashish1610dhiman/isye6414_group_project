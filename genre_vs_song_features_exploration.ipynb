{
 "cells": [
  {
   "cell_type": "code",
   "execution_count": 196,
   "id": "61416873",
   "metadata": {},
   "outputs": [],
   "source": [
    "import pandas as pd\n",
    "import numpy as np\n",
    "from matplotlib import pyplot as plt\n",
    "import seaborn as sns\n",
    "import pandas as pd\n",
    "import numpy as np\n",
    "import seaborn as sns\n",
    "import matplotlib.pyplot as plt\n",
    "\n",
    "import spotipy\n",
    "from spotipy.oauth2 import SpotifyClientCredentials\n",
    "from spotipy.oauth2 import SpotifyOAuth\n",
    "import json\n",
    "from pprint import pprint\n",
    "\n",
    "import time\n",
    "from ast import literal_eval"
   ]
  },
  {
   "cell_type": "code",
   "execution_count": 176,
   "id": "41e550f3",
   "metadata": {},
   "outputs": [
    {
     "name": "stdout",
     "output_type": "stream",
     "text": [
      "(4576, 17)\n"
     ]
    },
    {
     "data": {
      "text/html": [
       "<div>\n",
       "<style scoped>\n",
       "    .dataframe tbody tr th:only-of-type {\n",
       "        vertical-align: middle;\n",
       "    }\n",
       "\n",
       "    .dataframe tbody tr th {\n",
       "        vertical-align: top;\n",
       "    }\n",
       "\n",
       "    .dataframe thead th {\n",
       "        text-align: right;\n",
       "    }\n",
       "</style>\n",
       "<table border=\"1\" class=\"dataframe\">\n",
       "  <thead>\n",
       "    <tr style=\"text-align: right;\">\n",
       "      <th></th>\n",
       "      <th>name</th>\n",
       "      <th>album</th>\n",
       "      <th>artist</th>\n",
       "      <th>release_date</th>\n",
       "      <th>length</th>\n",
       "      <th>popularity</th>\n",
       "      <th>danceability</th>\n",
       "      <th>acousticness</th>\n",
       "      <th>energy</th>\n",
       "      <th>instrumentalness</th>\n",
       "      <th>liveness</th>\n",
       "      <th>loudness</th>\n",
       "      <th>speechiness</th>\n",
       "      <th>tempo</th>\n",
       "      <th>time_signature</th>\n",
       "      <th>track_id</th>\n",
       "      <th>genres</th>\n",
       "    </tr>\n",
       "  </thead>\n",
       "  <tbody>\n",
       "    <tr>\n",
       "      <th>0</th>\n",
       "      <td>Jimmy Cooks (feat. 21 Savage)</td>\n",
       "      <td>Honestly, Nevermind</td>\n",
       "      <td>Drake</td>\n",
       "      <td>2022-06-17</td>\n",
       "      <td>218364</td>\n",
       "      <td>91</td>\n",
       "      <td>0.529</td>\n",
       "      <td>0.000307</td>\n",
       "      <td>0.673</td>\n",
       "      <td>0.000002</td>\n",
       "      <td>0.0930</td>\n",
       "      <td>-4.711</td>\n",
       "      <td>0.1750</td>\n",
       "      <td>165.921</td>\n",
       "      <td>4</td>\n",
       "      <td>3F5CgOj3wFlRv51JsHbxhe</td>\n",
       "      <td>['canadian hip hop', 'canadian pop', 'hip hop'...</td>\n",
       "    </tr>\n",
       "    <tr>\n",
       "      <th>1</th>\n",
       "      <td>WAIT FOR U (feat. Drake &amp; Tems)</td>\n",
       "      <td>I NEVER LIKED YOU</td>\n",
       "      <td>Future</td>\n",
       "      <td>2022-04-29</td>\n",
       "      <td>189893</td>\n",
       "      <td>90</td>\n",
       "      <td>0.463</td>\n",
       "      <td>0.314000</td>\n",
       "      <td>0.642</td>\n",
       "      <td>0.000000</td>\n",
       "      <td>0.0686</td>\n",
       "      <td>-4.474</td>\n",
       "      <td>0.3400</td>\n",
       "      <td>83.389</td>\n",
       "      <td>4</td>\n",
       "      <td>59nOXPmaKlBfGMDeOVGrIK</td>\n",
       "      <td>['atl hip hop', 'rap', 'southern hip hop', 'tr...</td>\n",
       "    </tr>\n",
       "    <tr>\n",
       "      <th>2</th>\n",
       "      <td>One Dance</td>\n",
       "      <td>Views</td>\n",
       "      <td>Drake</td>\n",
       "      <td>2016-05-06</td>\n",
       "      <td>173986</td>\n",
       "      <td>86</td>\n",
       "      <td>0.792</td>\n",
       "      <td>0.007760</td>\n",
       "      <td>0.625</td>\n",
       "      <td>0.001800</td>\n",
       "      <td>0.3290</td>\n",
       "      <td>-5.609</td>\n",
       "      <td>0.0536</td>\n",
       "      <td>103.967</td>\n",
       "      <td>4</td>\n",
       "      <td>1zi7xx7UVEFkmKfv06H8x0</td>\n",
       "      <td>['canadian hip hop', 'canadian pop', 'hip hop'...</td>\n",
       "    </tr>\n",
       "    <tr>\n",
       "      <th>3</th>\n",
       "      <td>Knife Talk (with 21 Savage ft. Project Pat)</td>\n",
       "      <td>Certified Lover Boy</td>\n",
       "      <td>Drake</td>\n",
       "      <td>2021-09-03</td>\n",
       "      <td>242965</td>\n",
       "      <td>85</td>\n",
       "      <td>0.849</td>\n",
       "      <td>0.063500</td>\n",
       "      <td>0.424</td>\n",
       "      <td>0.000000</td>\n",
       "      <td>0.0834</td>\n",
       "      <td>-9.579</td>\n",
       "      <td>0.3240</td>\n",
       "      <td>145.887</td>\n",
       "      <td>4</td>\n",
       "      <td>2BcMwX1MPV6ZHP4tUT9uq6</td>\n",
       "      <td>['canadian hip hop', 'canadian pop', 'hip hop'...</td>\n",
       "    </tr>\n",
       "    <tr>\n",
       "      <th>4</th>\n",
       "      <td>God's Plan</td>\n",
       "      <td>Scorpion</td>\n",
       "      <td>Drake</td>\n",
       "      <td>2018-06-29</td>\n",
       "      <td>198973</td>\n",
       "      <td>85</td>\n",
       "      <td>0.754</td>\n",
       "      <td>0.033200</td>\n",
       "      <td>0.449</td>\n",
       "      <td>0.000083</td>\n",
       "      <td>0.5520</td>\n",
       "      <td>-9.211</td>\n",
       "      <td>0.1090</td>\n",
       "      <td>77.169</td>\n",
       "      <td>4</td>\n",
       "      <td>6DCZcSspjsKoFjzjrWoCdn</td>\n",
       "      <td>['canadian hip hop', 'canadian pop', 'hip hop'...</td>\n",
       "    </tr>\n",
       "  </tbody>\n",
       "</table>\n",
       "</div>"
      ],
      "text/plain": [
       "                                          name                album  artist  \\\n",
       "0                Jimmy Cooks (feat. 21 Savage)  Honestly, Nevermind   Drake   \n",
       "1              WAIT FOR U (feat. Drake & Tems)    I NEVER LIKED YOU  Future   \n",
       "2                                    One Dance                Views   Drake   \n",
       "3  Knife Talk (with 21 Savage ft. Project Pat)  Certified Lover Boy   Drake   \n",
       "4                                   God's Plan             Scorpion   Drake   \n",
       "\n",
       "  release_date  length  popularity  danceability  acousticness  energy  \\\n",
       "0   2022-06-17  218364          91         0.529      0.000307   0.673   \n",
       "1   2022-04-29  189893          90         0.463      0.314000   0.642   \n",
       "2   2016-05-06  173986          86         0.792      0.007760   0.625   \n",
       "3   2021-09-03  242965          85         0.849      0.063500   0.424   \n",
       "4   2018-06-29  198973          85         0.754      0.033200   0.449   \n",
       "\n",
       "   instrumentalness  liveness  loudness  speechiness    tempo  time_signature  \\\n",
       "0          0.000002    0.0930    -4.711       0.1750  165.921               4   \n",
       "1          0.000000    0.0686    -4.474       0.3400   83.389               4   \n",
       "2          0.001800    0.3290    -5.609       0.0536  103.967               4   \n",
       "3          0.000000    0.0834    -9.579       0.3240  145.887               4   \n",
       "4          0.000083    0.5520    -9.211       0.1090   77.169               4   \n",
       "\n",
       "                 track_id                                             genres  \n",
       "0  3F5CgOj3wFlRv51JsHbxhe  ['canadian hip hop', 'canadian pop', 'hip hop'...  \n",
       "1  59nOXPmaKlBfGMDeOVGrIK  ['atl hip hop', 'rap', 'southern hip hop', 'tr...  \n",
       "2  1zi7xx7UVEFkmKfv06H8x0  ['canadian hip hop', 'canadian pop', 'hip hop'...  \n",
       "3  2BcMwX1MPV6ZHP4tUT9uq6  ['canadian hip hop', 'canadian pop', 'hip hop'...  \n",
       "4  6DCZcSspjsKoFjzjrWoCdn  ['canadian hip hop', 'canadian pop', 'hip hop'...  "
      ]
     },
     "execution_count": 176,
     "metadata": {},
     "output_type": "execute_result"
    }
   ],
   "source": [
    "# Read the data\n",
    "# data = pd.read_csv('top_500_artists_deduplicate.csv')\n",
    "data = pd.read_csv('top_500_artists_deduplicate_genres.csv')\n",
    "print(data.shape)\n",
    "data.head()"
   ]
  },
  {
   "cell_type": "code",
   "execution_count": 177,
   "id": "9dace892",
   "metadata": {},
   "outputs": [],
   "source": [
    "data.genres=data.genres.apply(literal_eval)"
   ]
  },
  {
   "cell_type": "code",
   "execution_count": 178,
   "id": "61b3eebc",
   "metadata": {},
   "outputs": [],
   "source": [
    "data=data.explode('genres')"
   ]
  },
  {
   "cell_type": "code",
   "execution_count": 179,
   "id": "acb90d8a",
   "metadata": {},
   "outputs": [],
   "source": [
    "data.loc[:,\"row_count\"]=1"
   ]
  },
  {
   "cell_type": "code",
   "execution_count": 180,
   "id": "6ac0492a",
   "metadata": {},
   "outputs": [
    {
     "data": {
      "text/plain": [
       "genres\n",
       "a cappella          10\n",
       "acid rock           10\n",
       "acoustic cover      11\n",
       "acoustic pop        11\n",
       "adult standards     20\n",
       "                    ..\n",
       "virginia hip hop     1\n",
       "west coast rap      74\n",
       "world worship       10\n",
       "worship             10\n",
       "yacht rock          21\n",
       "Name: row_count, Length: 480, dtype: int64"
      ]
     },
     "execution_count": 180,
     "metadata": {},
     "output_type": "execute_result"
    }
   ],
   "source": [
    "data.groupby(\"genres\")[\"row_count\"].count()"
   ]
  },
  {
   "cell_type": "code",
   "execution_count": 181,
   "id": "e96b4342",
   "metadata": {},
   "outputs": [],
   "source": [
    "series = pd.value_counts(data.genres)"
   ]
  },
  {
   "cell_type": "code",
   "execution_count": 183,
   "id": "6471e579",
   "metadata": {},
   "outputs": [],
   "source": [
    "mask=(series/series.sum() * 100).lt(1)"
   ]
  },
  {
   "cell_type": "code",
   "execution_count": 184,
   "id": "325b88f7",
   "metadata": {},
   "outputs": [
    {
     "data": {
      "text/plain": [
       "460"
      ]
     },
     "execution_count": 184,
     "metadata": {},
     "output_type": "execute_result"
    }
   ],
   "source": [
    "len(series[mask].index)"
   ]
  },
  {
   "cell_type": "code",
   "execution_count": 185,
   "id": "9403ba22",
   "metadata": {},
   "outputs": [
    {
     "data": {
      "text/plain": [
       "480"
      ]
     },
     "execution_count": 185,
     "metadata": {},
     "output_type": "execute_result"
    }
   ],
   "source": [
    "len(series)"
   ]
  },
  {
   "cell_type": "code",
   "execution_count": 186,
   "id": "d246ed61",
   "metadata": {},
   "outputs": [],
   "source": [
    "data[\"genres\"]=np.where(data[\"genres\"].isin(series[mask].index),\"Other\",data[\"genres\"])"
   ]
  },
  {
   "cell_type": "markdown",
   "id": "325a2012",
   "metadata": {},
   "source": [
    "## Overall Song Coverage by Genres having more than 1% of share"
   ]
  },
  {
   "cell_type": "code",
   "execution_count": 187,
   "id": "ef658669",
   "metadata": {},
   "outputs": [
    {
     "data": {
      "text/plain": [
       "0.7429791058189171"
      ]
     },
     "execution_count": 187,
     "metadata": {},
     "output_type": "execute_result"
    }
   ],
   "source": [
    "len(data[data[\"genres\"]!=\"Other\"].name.unique())/len(data.name.unique())"
   ]
  },
  {
   "cell_type": "code",
   "execution_count": 188,
   "id": "4df4cbf2",
   "metadata": {},
   "outputs": [
    {
     "data": {
      "text/plain": [
       "Other               8991\n",
       "pop                 1631\n",
       "dance pop           1012\n",
       "rap                  746\n",
       "rock                 487\n",
       "hip hop              463\n",
       "pop rap              449\n",
       "edm                  364\n",
       "post-teen pop        356\n",
       "trap                 330\n",
       "pop dance            291\n",
       "trap latino          275\n",
       "tropical house       257\n",
       "reggaeton            239\n",
       "latin pop            234\n",
       "permanent wave       210\n",
       "classic rock         209\n",
       "r&b                  184\n",
       "southern hip hop     181\n",
       "melodic rap          179\n",
       "electropop           177\n",
       "Name: genres, dtype: int64"
      ]
     },
     "execution_count": 188,
     "metadata": {},
     "output_type": "execute_result"
    }
   ],
   "source": [
    "data[\"genres\"].value_counts()"
   ]
  },
  {
   "cell_type": "code",
   "execution_count": 192,
   "id": "cc7c7aa5",
   "metadata": {},
   "outputs": [],
   "source": [
    "data[data[\"genres\"]==\"pop\"].reset_index(drop=True)"
   ]
  },
  {
   "cell_type": "code",
   "execution_count": 202,
   "id": "e253afee",
   "metadata": {},
   "outputs": [],
   "source": [
    "num_features = ['length', 'danceability', 'acousticness', 'energy', 'instrumentalness','liveness', 'loudness', 'speechiness', 'tempo', 'time_signature']"
   ]
  },
  {
   "cell_type": "code",
   "execution_count": 209,
   "id": "42ff1005",
   "metadata": {},
   "outputs": [],
   "source": [
    "artist_pop = data.groupby('artist')['popularity'].agg(['mean', 'count'])"
   ]
  },
  {
   "cell_type": "code",
   "execution_count": 217,
   "id": "e7ed2a32",
   "metadata": {},
   "outputs": [
    {
     "data": {
      "text/plain": [
       "artist\n",
       "Drake         80.933333\n",
       "Drake         80.933333\n",
       "Drake         80.933333\n",
       "Drake         80.933333\n",
       "Drake         80.933333\n",
       "                ...    \n",
       "Bea Miller    60.000000\n",
       "Aminé         66.250000\n",
       "Aminé         66.250000\n",
       "Aminé         66.250000\n",
       "Aminé         66.250000\n",
       "Name: mean, Length: 17278, dtype: float64"
      ]
     },
     "execution_count": 217,
     "metadata": {},
     "output_type": "execute_result"
    }
   ],
   "source": [
    "artist_pop['mean'][data['artist']]"
   ]
  },
  {
   "cell_type": "code",
   "execution_count": 219,
   "id": "26ade7e9",
   "metadata": {},
   "outputs": [],
   "source": [
    "data['centralized_popularity'] = data['popularity'] - artist_pop['mean'][data['artist']].values"
   ]
  },
  {
   "cell_type": "code",
   "execution_count": null,
   "id": "5ab24083",
   "metadata": {},
   "outputs": [],
   "source": [
    "data['mean_other_song_popularity'] = (artist_pop['mean'][data['artist']].values * artist_pop['count'][data['artist']].values - data['popularity'].values) / (artist_pop['count'][data['artist']].values - 1)"
   ]
  },
  {
   "cell_type": "code",
   "execution_count": 208,
   "id": "6b490cdd",
   "metadata": {},
   "outputs": [
    {
     "data": {
      "image/png": "[encoded data removed]",
      "text/plain": [
       "<Figure size 432x288 with 1 Axes>"
      ]
     },
     "metadata": {
      "needs_background": "light"
     },
     "output_type": "display_data"
    },
    {
     "data": {
      "image/png": "[encoded data removed]",
      "text/plain": [
       "<Figure size 432x288 with 1 Axes>"
      ]
     },
     "metadata": {
      "needs_background": "light"
     },
     "output_type": "display_data"
    },
    {
     "data": {
      "image/png": "[encoded data removed]",
      "text/plain": [
       "<Figure size 432x288 with 1 Axes>"
      ]
     },
     "metadata": {
      "needs_background": "light"
     },
     "output_type": "display_data"
    },
    {
     "data": {
      "image/png": "[encoded data removed]",
      "text/plain": [
       "<Figure size 432x288 with 1 Axes>"
      ]
     },
     "metadata": {
      "needs_background": "light"
     },
     "output_type": "display_data"
    },
    {
     "data": {
      "image/png": "[encoded data removed]",
      "text/plain": [
       "<Figure size 432x288 with 1 Axes>"
      ]
     },
     "metadata": {
      "needs_background": "light"
     },
     "output_type": "display_data"
    },
    {
     "data": {
      "image/png": "[encoded data removed]",
      "text/plain": [
       "<Figure size 432x288 with 1 Axes>"
      ]
     },
     "metadata": {
      "needs_background": "light"
     },
     "output_type": "display_data"
    },
    {
     "data": {
      "image/png": "[encoded data removed]",
      "text/plain": [
       "<Figure size 432x288 with 1 Axes>"
      ]
     },
     "metadata": {
      "needs_background": "light"
     },
     "output_type": "display_data"
    },
    {
     "data": {
      "image/png": "[encoded data removed]",
      "text/plain": [
       "<Figure size 432x288 with 1 Axes>"
      ]
     },
     "metadata": {
      "needs_background": "light"
     },
     "output_type": "display_data"
    },
    {
     "data": {
      "image/png": "[encoded data removed]",
      "text/plain": [
       "<Figure size 432x288 with 1 Axes>"
      ]
     },
     "metadata": {
      "needs_background": "light"
     },
     "output_type": "display_data"
    },
    {
     "data": {
      "image/png": "[encoded data removed]",
      "text/plain": [
       "<Figure size 432x288 with 1 Axes>"
      ]
     },
     "metadata": {
      "needs_background": "light"
     },
     "output_type": "display_data"
    }
   ],
   "source": [
    "for col in num_features:\n",
    "    sns.scatterplot(data=data[(data[\"genres\"]==\"melodic rap\") & (data['release_date'] > \"2019-01-01\")],x=col,y=\"popularity\")\n",
    "    plt.show()"
   ]
  },
  {
   "cell_type": "code",
   "execution_count": null,
   "id": "dc2b3847",
   "metadata": {},
   "outputs": [],
   "source": []
  }
 ],
 "metadata": {
  "kernelspec": {
   "display_name": "Python 3 (ipykernel)",
   "language": "python",
   "name": "python3"
  },
  "language_info": {
   "codemirror_mode": {
    "name": "ipython",
    "version": 3
   },
   "file_extension": ".py",
   "mimetype": "text/x-python",
   "name": "python",
   "nbconvert_exporter": "python",
   "pygments_lexer": "ipython3",
   "version": "3.9.12"
  }
 },
 "nbformat": 4,
 "nbformat_minor": 5
}
